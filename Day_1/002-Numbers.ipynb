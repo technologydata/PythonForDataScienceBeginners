{
 "cells": [
  {
   "cell_type": "markdown",
   "metadata": {},
   "source": [
    "# Numbers in Python !!!!"
   ]
  },
  {
   "cell_type": "markdown",
   "metadata": {},
   "source": [
    "Here, we will dicuss about numeric datatype supported by python and\n",
    "Various operations that can be performed Using them"
   ]
  },
  {
   "cell_type": "markdown",
   "metadata": {},
   "source": [
    "# Type of Numbers \n",
    "In Python, numbers are not really a single object type, but a category of similar types.\n",
    "\n",
    "Python supports the usual numeric types (integers and floating points), as well as literals\n",
    "for creating numbers and expressions for processing them.\n",
    "\n",
    "In addition, Python provides more advanced numeric programming support and objects for more advanced work.\n",
    "\n",
    "We will maily focus on Integers and Floating points numbers\n",
    "\n",
    "\n",
    "<b>INTEGERS</b>\n",
    "Integers are simply positive and negative whole numbers.\n",
    "\n",
    "For example : 123,-314,49 etc.\n",
    "\n",
    "Along with this,python also allows us to write integers using HEXADECIMAL,OCTAL AND BINARY Literals.\n",
    "\n",
    "<i><u>In Python 2.x ,we have two types of integers - normal (32bit) and long integers(unlimited precision).But in python 3.x ,the normal and long integer types have been merged and supports unlimited precision.\n",
    "</u></i>\n",
    "\n",
    "<b>FLOATING POINT</b>\n",
    "Also known as floats,these are the numbers with a fractional part and/or an optional signed exponent introduced by an e or E and followed by an optional sign.\n",
    "\n",
    "If you write a number with a decimal point or exponent, Python makes it a floating-point object and uses floating-point (not integer) math when the object is used in an expression .\n",
    "\n",
    "For example :\n",
    "1.23, 1., 3.14e-10, 4E2 (4 times 10 to the power of 2) .\n",
    "\n",
    "\n",
    "\n"
   ]
  },
  {
   "cell_type": "markdown",
   "metadata": {},
   "source": [
    "# Arithmetic Operation"
   ]
  },
  {
   "cell_type": "code",
   "execution_count": 16,
   "metadata": {},
   "outputs": [
    {
     "data": {
      "text/plain": [
       "3.3333333333333335"
      ]
     },
     "execution_count": 16,
     "metadata": {},
     "output_type": "execute_result"
    }
   ],
   "source": [
    "10/3  # True Division- Always keeps the remainders in floating-point results,regardless of type"
   ]
  },
  {
   "cell_type": "code",
   "execution_count": 17,
   "metadata": {},
   "outputs": [
    {
     "data": {
      "text/plain": [
       "3"
      ]
     },
     "execution_count": 17,
     "metadata": {},
     "output_type": "execute_result"
    }
   ],
   "source": [
    "11//3 # Floor division - Truncates the fractional remainder down to their floor,regardless of types"
   ]
  },
  {
   "cell_type": "code",
   "execution_count": 18,
   "metadata": {},
   "outputs": [
    {
     "data": {
      "text/plain": [
       "3.0"
      ]
     },
     "execution_count": 18,
     "metadata": {},
     "output_type": "execute_result"
    }
   ],
   "source": [
    "11//3.0 #same as above but it will return the result in float because one operand is float"
   ]
  },
  {
   "cell_type": "code",
   "execution_count": 4,
   "metadata": {},
   "outputs": [
    {
     "name": "stdout",
     "output_type": "stream",
     "text": [
      "1\n",
      "1.0\n"
     ]
    }
   ],
   "source": [
    "print(10 % 3) #Modulo operator - return remainder.Result based on given type\n",
    "print(10 % 3.0)"
   ]
  },
  {
   "cell_type": "code",
   "execution_count": 5,
   "metadata": {},
   "outputs": [
    {
     "data": {
      "text/plain": [
       "100"
      ]
     },
     "execution_count": 5,
     "metadata": {},
     "output_type": "execute_result"
    }
   ],
   "source": [
    "10 ** 2 #Power"
   ]
  },
  {
   "cell_type": "code",
   "execution_count": 6,
   "metadata": {},
   "outputs": [
    {
     "data": {
      "text/plain": [
       "3.0"
      ]
     },
     "execution_count": 6,
     "metadata": {},
     "output_type": "execute_result"
    }
   ],
   "source": [
    "9 ** 0.5 # Square root"
   ]
  },
  {
   "cell_type": "code",
   "execution_count": 7,
   "metadata": {},
   "outputs": [
    {
     "name": "stdout",
     "output_type": "stream",
     "text": [
      "7\n",
      "12\n",
      "-1\n",
      "2.0\n"
     ]
    }
   ],
   "source": [
    "# Basic Operations\n",
    "print(3+4)\n",
    "print(4*3)\n",
    "print(4-5)\n",
    "print(4/2)"
   ]
  },
  {
   "cell_type": "code",
   "execution_count": 8,
   "metadata": {},
   "outputs": [
    {
     "name": "stdout",
     "output_type": "stream",
     "text": [
      "b is greater than a\n",
      "False\n",
      "True\n",
      "True\n",
      "False\n",
      "atleast one condition is true\n",
      "Atleast one condition is not true\n"
     ]
    }
   ],
   "source": [
    "# Logical operators\n",
    "a=10\n",
    "b=20\n",
    "c=20\n",
    "\n",
    "if(a > b):\n",
    "    print(' a is greater than b')\n",
    "else:\n",
    "    print('b is greater than a')\n",
    "\n",
    "    \n",
    "#other logical operator\n",
    "print(a==b)\n",
    "print(c==b)\n",
    "\n",
    "print(a!=b)\n",
    "print(b!=c)\n",
    "\n",
    "if(b==c or a==b):\n",
    "    print('atleast one condition is true')\n",
    "\n",
    "if(b==c and a==b):\n",
    "    print('Both condition is true')\n",
    "else:\n",
    "    print('Atleast one condition is not true')"
   ]
  },
  {
   "cell_type": "code",
   "execution_count": 9,
   "metadata": {},
   "outputs": [
    {
     "name": "stdout",
     "output_type": "stream",
     "text": [
      "A is less than b and b is less than c\n",
      "A is less than b and b is less than c\n",
      "Even Number\n"
     ]
    }
   ],
   "source": [
    "#Chained Operators\n",
    "a=10\n",
    "b=20\n",
    "c=30\n",
    "\n",
    "# a is less than b and b is less than c\n",
    "if(a < b < c):\n",
    "    print('A is less than b and b is less than c')\n",
    "else:\n",
    "    print('Some other result')\n",
    "\n",
    "\n",
    "#Above check can also be written as\n",
    "if(a < b and b < c):\n",
    "    print('A is less than b and b is less than c')\n",
    "else:\n",
    "    print('Some other result')\n",
    "    \n",
    "#logical Negation\n",
    "if(not ( c % 2 == 0) ):\n",
    "    print('Odd Number')\n",
    "else:\n",
    "    print('Even Number')"
   ]
  },
  {
   "cell_type": "code",
   "execution_count": null,
   "metadata": {},
   "outputs": [],
   "source": []
  },
  {
   "cell_type": "markdown",
   "metadata": {},
   "source": [
    "# Binary,Octal and Hex numbers\n",
    "\n",
    "<u><b>Hexadecimal literals </b></u> start with a leading 0x or 0X, followed by a string of hexadecimal\n",
    "digits (0–9 and A–F). Hex digits may be coded in lower- or uppercase.\n",
    "\n",
    "<u><b>Octal literals</b></u> start with a leading 0o or 0O (zero and lower- or uppercase letter o), followed\n",
    "by a string of digits (0–7). In 2.X, octal literals can also be coded with just a leading\n",
    "0, but not in 3.X—this original octal form is too easily confused with decimal, and\n",
    "is replaced by the new 0o format, which can also be used in 2.X as of 2.6.\n",
    "\n",
    "<u><b>Binary literals </b></u>, new as of 2.6 and 3.0, begin with a leading 0b or 0B, followed by binary\n",
    "digits (0–1).\n",
    "\n",
    "<b><u>Note: Keep in mind that these are only alternative syntax for specifying the value of an integer object.\n",
    "    In memory,the integer value is same , regardless of the ways we use to speecify it.  </u><b>"
   ]
  },
  {
   "cell_type": "code",
   "execution_count": 10,
   "metadata": {},
   "outputs": [
    {
     "name": "stdout",
     "output_type": "stream",
     "text": [
      "1 16 255\n",
      "1 16 255\n",
      "1 16 255\n"
     ]
    }
   ],
   "source": [
    "#Hex Literals\n",
    "print(0x01, 0x10, 0xFF)\n",
    "\n",
    "#Octal Literals\n",
    "print(0o1, 0o20, 0o377)\n",
    "\n",
    "#Binary Literals\n",
    "print(0b1, 0b10000, 0b11111111)"
   ]
  },
  {
   "cell_type": "markdown",
   "metadata": {},
   "source": [
    "# Booleans\n",
    "\n",
    "Some may argue that the Python Boolean type, bool, is numeric in nature because its two values-True and False, are just customized versions of the integers 1 and 0 that print themselves differently.\n",
    "\n",
    "Python today has an explicit Boolean data type called bool, with the\n",
    "values True and False available as preassigned built-in names. Internally, the names\n",
    "True and False are instances of bool, which is in turn just a subclass (in the objectoriented\n",
    "sense) of the built-in integer type int.\n",
    "\n",
    "True and False behave exactly like the integers 1 and 0, except that they have customized printing logic—they print themselves as the words True and False, instead of the digits 1 and 0. bool accomplishes this by redefining str and repr string formats for its two objects."
   ]
  },
  {
   "cell_type": "code",
   "execution_count": 19,
   "metadata": {},
   "outputs": [
    {
     "data": {
      "text/plain": [
       "bool"
      ]
     },
     "execution_count": 19,
     "metadata": {},
     "output_type": "execute_result"
    }
   ],
   "source": [
    "type(True) # type is used to find the type of a given object"
   ]
  },
  {
   "cell_type": "code",
   "execution_count": 20,
   "metadata": {},
   "outputs": [
    {
     "data": {
      "text/plain": [
       "True"
      ]
     },
     "execution_count": 20,
     "metadata": {},
     "output_type": "execute_result"
    }
   ],
   "source": [
    "isinstance(True, int) #Check whether True is an instance of int or not"
   ]
  },
  {
   "cell_type": "code",
   "execution_count": 21,
   "metadata": {},
   "outputs": [
    {
     "data": {
      "text/plain": [
       "11"
      ]
     },
     "execution_count": 21,
     "metadata": {},
     "output_type": "execute_result"
    }
   ],
   "source": [
    "True+10  #Since True is an int with value 1 ,we can perform arithmetic operations on it like on any other integer value"
   ]
  },
  {
   "cell_type": "code",
   "execution_count": 22,
   "metadata": {},
   "outputs": [
    {
     "data": {
      "text/plain": [
       "True"
      ]
     },
     "execution_count": 22,
     "metadata": {},
     "output_type": "execute_result"
    }
   ],
   "source": [
    "True == 1 # == Checks whether two referenced values are same or not"
   ]
  },
  {
   "cell_type": "code",
   "execution_count": 23,
   "metadata": {},
   "outputs": [
    {
     "data": {
      "text/plain": [
       "False"
      ]
     },
     "execution_count": 23,
     "metadata": {},
     "output_type": "execute_result"
    }
   ],
   "source": [
    "True is 1\n",
    "# True and 1 are 3 different objects.\n",
    "#Thats why 'is' operator is returning false.\n",
    "#'is' operator checks whether two objects points to same reference"
   ]
  }
 ],
 "metadata": {
  "kernelspec": {
   "display_name": "Python 3",
   "language": "python",
   "name": "python3"
  },
  "language_info": {
   "codemirror_mode": {
    "name": "ipython",
    "version": 3
   },
   "file_extension": ".py",
   "mimetype": "text/x-python",
   "name": "python",
   "nbconvert_exporter": "python",
   "pygments_lexer": "ipython3",
   "version": "3.8.5"
  }
 },
 "nbformat": 4,
 "nbformat_minor": 2
}
