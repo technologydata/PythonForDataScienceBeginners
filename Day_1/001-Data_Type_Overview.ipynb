{
 "cells": [
  {
   "cell_type": "markdown",
   "metadata": {},
   "source": [
    "# Python's Core Data Types:\n",
    "\n",
    "In Python,everything is an object.Python supports various built-in data types:\n",
    "\n",
    "<table>\n",
    "   <tr>\n",
    "       <th>Object Type</th><th>Example</th>\n",
    "    </tr>\n",
    "   \n",
    "   <tr>\n",
    "        <td>Numbers</td><td>447,1234,3.14123,5.4321 etc.</td>\n",
    "        </tr>\n",
    "   \n",
    "   <tr>\n",
    "        <td>Strings</td><td>\"Hello python\" , 'Learning Python'</td>\n",
    "    </tr>\n",
    "    <tr>\n",
    "        <td>Lists</td><td>[1,3,4,5,[\"anything\",\"india\"],3.45]</td>\n",
    "    </tr>\n",
    "    <tr>\n",
    "        <td>Dictionaries</td><td>{'anykey':'anyvalue'} , {'apple':2,'banana'3'}</td>\n",
    "    </tr>\n",
    "         <tr>\n",
    "        <td>Tuple</td><td>(1,3,4,5,'anything',3.45)</td>\n",
    "    </tr>\n",
    "     <tr>\n",
    "        <td>Sets</td><td>{1,3,4,5,3]</td>\n",
    "    </tr>\n",
    " </table>\n",
    "\n",
    "\n",
    "\n",
    "Note : Apart from the above mentioned datatype,program units such as functions, modules, and classes—which are objects in Python too; they are created with statements and expressions such as def, class, import, and lambda and may be passed around scripts freely, stored within other objects, and so on.\n"
   ]
  },
  {
   "cell_type": "markdown",
   "metadata": {},
   "source": [
    "Why these are usually called Core data Types ?\n",
    "\n",
    "Because they are effectively built into the Python language—that is, there is specific expression\n",
    "syntax for generating most of them.\n",
    "\n",
    "Example : When we write: <b>'This is Python'</b> .This means it is string object because it is in single quote.\n",
    "\n",
    "Similarly python have the specific syntax for creating every built-in data types\n"
   ]
  },
  {
   "cell_type": "markdown",
   "metadata": {},
   "source": [
    "# Numbers"
   ]
  },
  {
   "cell_type": "markdown",
   "metadata": {},
   "source": [
    "Numbers are fairly straightforward.Two widely used Numbers Datatypes are :\n",
    "a)Integers that have no fractional part\n",
    "b)Floating point numbers that have fractional part\n"
   ]
  },
  {
   "cell_type": "markdown",
   "metadata": {},
   "source": [
    "Example of working with Numbers:"
   ]
  },
  {
   "cell_type": "code",
   "execution_count": 1,
   "metadata": {},
   "outputs": [
    {
     "name": "stdout",
     "output_type": "stream",
     "text": [
      "24\n",
      "49.248000000000005\n",
      "16\n"
     ]
    }
   ],
   "source": [
    "print(12+12) #Integer addition\n",
    "print(123.12*0.4) #Floating point Multiplication\n",
    "print(2**4) # 2 raise to the power 4\n"
   ]
  },
  {
   "cell_type": "markdown",
   "metadata": {},
   "source": [
    "# String"
   ]
  },
  {
   "cell_type": "markdown",
   "metadata": {},
   "source": [
    "Strings are used to record both textual information (your name, for instance) as well as \n",
    "arbitrary collections of bytes (such as an image file’s contents).\n",
    "\n",
    "Note that Strings in python are immutable.It means that once we have assigned the value to a String object,\n",
    "it will not change.So any operations like concat will create a new String instead of modifying the existing string."
   ]
  },
  {
   "cell_type": "markdown",
   "metadata": {},
   "source": [
    "Example of using String: "
   ]
  },
  {
   "cell_type": "code",
   "execution_count": 2,
   "metadata": {},
   "outputs": [
    {
     "name": "stdout",
     "output_type": "stream",
     "text": [
      "The result is: Python 3\n"
     ]
    }
   ],
   "source": [
    "#Concatenation of String\n",
    "name=\"Python \" #String with DOuble quote\n",
    "version='3'  #String swith Single quote.\n",
    "#Both above Strings are valid\n",
    "\n",
    "result=name+version #string concatenation\n",
    "print(\"The result is:\",result)\n",
    " "
   ]
  },
  {
   "cell_type": "code",
   "execution_count": 3,
   "metadata": {},
   "outputs": [
    {
     "name": "stdout",
     "output_type": "stream",
     "text": [
      "The result is: PythonPythonPython\n"
     ]
    }
   ],
   "source": [
    "#Repetition of String\n",
    "name='Python'\n",
    "#Both above Strings are valid\n",
    "\n",
    "result=name * 3 #string Repetition upto 3 times\n",
    "print(\"The result is:\",result)"
   ]
  },
  {
   "cell_type": "markdown",
   "metadata": {},
   "source": [
    "# List"
   ]
  },
  {
   "cell_type": "markdown",
   "metadata": {},
   "source": [
    "List is a collection of objects that are positionally stored. \n",
    "List is <b>dynamic in size</b> ,means it can grow as number of items in the list increases.\n",
    "List is <b>mutable</b> in python as opposed to string.It means that we can modify the list elements\n",
    "\n",
    "Usage:<b>lists of files in a folder, employees in a company, emails in your inbox, and so on.</b>"
   ]
  },
  {
   "cell_type": "code",
   "execution_count": 4,
   "metadata": {},
   "outputs": [
    {
     "name": "stdout",
     "output_type": "stream",
     "text": [
      "['india', 2019, 'US']\n",
      "['india', 2019, 'US', 'China']\n",
      "2019\n",
      "['india', 2019, 'US', 'China']\n"
     ]
    }
   ],
   "source": [
    "myList=['india',2019,'US']\n",
    "print(myList)\n",
    "\n",
    "#Append item in list\n",
    "myList.append('China')\n",
    "print(myList)\n",
    "\n",
    "#Indexing by position\n",
    "print(myList[1])\n",
    "\n",
    "#Concat new items in list\n",
    "myList+[100,'Japan']\n",
    "print(myList)\n",
    "\n"
   ]
  },
  {
   "cell_type": "markdown",
   "metadata": {},
   "source": [
    "# Dictonaries"
   ]
  },
  {
   "cell_type": "markdown",
   "metadata": {},
   "source": [
    "Dictionaries are used to store the data in key-value pairs.It is similar to Map in other langugaes such as Java.\n",
    "To access the value mapped by a specific key ,we need to index it via that key.\n",
    "Elements in Dictionaries are not ordered as in list.\n",
    "Like lists, they may be changed in place and can grow and shrink on demand\n",
    "Dictionaries are mutable in nature"
   ]
  },
  {
   "cell_type": "code",
   "execution_count": 5,
   "metadata": {},
   "outputs": [
    {
     "name": "stdout",
     "output_type": "stream",
     "text": [
      "{'name': 'Student 1', 'course': 'Python', 'marks': 77}\n",
      "Marks of a student is 77\n",
      "Updated Marks of a student is 87\n",
      "{'name': 'Student 1', 'course': 'Python', 'marks': 87, 'grade': 'B'}\n"
     ]
    }
   ],
   "source": [
    "# A simple dictionary storing student marks\n",
    "result={'name':'Student 1','course':'Python','marks':77}\n",
    "print(result)\n",
    "\n",
    "#Access Elements using Key\n",
    "print('Marks of a student is' ,result['marks'])\n",
    "\n",
    "# Change the value using key\n",
    "result['marks']+=10\n",
    "print('Updated Marks of a student is' ,result['marks'])\n",
    "\n",
    "#Add New Key/Value Pair\n",
    "result['grade']='B'\n",
    "print(result)"
   ]
  },
  {
   "cell_type": "markdown",
   "metadata": {},
   "source": [
    "# Tuples"
   ]
  },
  {
   "cell_type": "markdown",
   "metadata": {},
   "source": [
    "A Tuple is like a list except that it is immutable.\n",
    "They’re used to represent fixed collections of items,like,the components of a specific calendar date.\n",
    "<b>Syntactically, they are normally coded in parentheses - '()' instead of square brackets '[]'</b>\n",
    "Like lists and dictionaries, tuples support mixed types and nesting, but they don’t grow and shrink because they are <b>immutable</b>"
   ]
  },
  {
   "cell_type": "code",
   "execution_count": 6,
   "metadata": {},
   "outputs": [
    {
     "name": "stdout",
     "output_type": "stream",
     "text": [
      "(3, 4, 5, 8)\n",
      "Length  4\n",
      "8\n"
     ]
    }
   ],
   "source": [
    "#A simple tuple\n",
    "myTuple=(3,4,5,8)\n",
    "print(myTuple)\n",
    "\n",
    "#Length of a tuple\n",
    "print('Length ' ,len(myTuple))\n",
    "\n",
    "#Accessing tuple element by index\n",
    "print(myTuple[3])\n",
    "\n",
    "# Following will show an error because we are trying to change tuple element\n",
    "# myTuple[3]=10"
   ]
  },
  {
   "cell_type": "markdown",
   "metadata": {},
   "source": [
    "# Set"
   ]
  },
  {
   "cell_type": "markdown",
   "metadata": {},
   "source": [
    "Set are neither mappings nor sequences; rather, they are unordered collections of unique and immutable objects.\n",
    "They support usual mathematical operations\n",
    "Useful for common tasks such as filtering out duplicates.\n",
    "Example:"
   ]
  },
  {
   "cell_type": "code",
   "execution_count": 7,
   "metadata": {},
   "outputs": [
    {
     "name": "stdout",
     "output_type": "stream",
     "text": [
      "{'a'}\n",
      "{'q', 'a', 'z', 'n', 'f'}\n",
      "True\n"
     ]
    }
   ],
   "source": [
    "mySet={'q','a','z'} #Creating Set\n",
    "anotherSet={'a','f','n'}\n",
    "print(mySet & anotherSet) #print out the intersection(Common) elements\n",
    "print(mySet | anotherSet) #Union\n",
    "print('q' in mySet) #in membership test(Whether 'q' is present in set or not)"
   ]
  },
  {
   "cell_type": "markdown",
   "metadata": {},
   "source": [
    "# Files"
   ]
  },
  {
   "cell_type": "markdown",
   "metadata": {},
   "source": [
    "Files can be used to read and write text memos, audio clips, Excel documents, saved email\n",
    "messages, and whatever else you happen to have stored on your machine.\n",
    "\n",
    "Files are a core type, but they’re something of an oddball—there is no specific literal syntax for\n",
    "creating them.\n",
    "\n",
    "Rather, to create a file object, you call the built-in open function, passing\n",
    "in an external filename and an optional processing mode as strings\n",
    "\n",
    "Example:"
   ]
  },
  {
   "cell_type": "code",
   "execution_count": 8,
   "metadata": {},
   "outputs": [],
   "source": [
    "f=open('samplefile.txt','w') #Open a file samplefile.txt in write mode\n",
    "f.write('Sample file data\\n') #Write some data in file\n",
    "f.write('data stored\\n')\n",
    "f.write('Byeeee !!!!')\n",
    "f.close() #Close the file so that buffer can be flused to disk"
   ]
  },
  {
   "cell_type": "markdown",
   "metadata": {},
   "source": [
    "The above program will create a file 'samplefile.txt' in the current directory with the given contents.\n",
    "\n",
    "To read back what you just wrote, reopen the file in 'r' processing mode, for reading text input\n",
    "—this is the default if you omit the mode in the call.\n",
    "\n",
    "Lets check it out"
   ]
  },
  {
   "cell_type": "code",
   "execution_count": 9,
   "metadata": {},
   "outputs": [
    {
     "name": "stdout",
     "output_type": "stream",
     "text": [
      "Sample file data\n",
      "\n",
      "data stored\n",
      "\n",
      "Byeeee !!!!\n"
     ]
    }
   ],
   "source": [
    "f=open('samplefile.txt','r') # Open a file samplefile.txt in read mode\n",
    "single_line=f.readline() # read the file contents\n",
    "while single_line:\n",
    "    print(single_line)\n",
    "    single_line=f.readline()\n",
    "    \n",
    "f.close()"
   ]
  },
  {
   "cell_type": "markdown",
   "metadata": {},
   "source": [
    "# Walrus Operator"
   ]
  },
  {
   "cell_type": "markdown",
   "metadata": {},
   "source": [
    "In Python 3.8 ,we have a new way of assignment expressions using <b> := </b> .It is also called <b>Walrus operator</b>.It helps the programmer to save lines of code.This allows us to assign a value to a variable inside a Python expression. It is a convenient operator which makes our code more compact.\n",
    "\n",
    "<u><b>Syntax</b></u><br>\n",
    "NAME:=EXPRESSION"
   ]
  },
  {
   "cell_type": "code",
   "execution_count": 12,
   "metadata": {},
   "outputs": [
    {
     "name": "stdout",
     "output_type": "stream",
     "text": [
      "Sample file data\n",
      "\n",
      "data stored\n",
      "\n",
      "Byeeee !!!!\n"
     ]
    }
   ],
   "source": [
    "#Reading the above file using Walrus Operator\n",
    "f=open('samplefile.txt','r')\n",
    "while line:=f.readline() :     #Here line is a variable\n",
    "    print(line)\n"
   ]
  }
 ],
 "metadata": {
  "kernelspec": {
   "display_name": "Python 3",
   "language": "python",
   "name": "python3"
  },
  "language_info": {
   "codemirror_mode": {
    "name": "ipython",
    "version": 3
   },
   "file_extension": ".py",
   "mimetype": "text/x-python",
   "name": "python",
   "nbconvert_exporter": "python",
   "pygments_lexer": "ipython3",
   "version": "3.8.5"
  }
 },
 "nbformat": 4,
 "nbformat_minor": 2
}
