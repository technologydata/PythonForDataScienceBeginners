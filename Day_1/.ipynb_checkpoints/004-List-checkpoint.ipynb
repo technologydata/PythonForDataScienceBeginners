{
 "cells": [
  {
   "cell_type": "markdown",
   "metadata": {},
   "source": [
    "# List"
   ]
  },
  {
   "cell_type": "markdown",
   "metadata": {},
   "source": [
    "Lists are Python’s most flexible <b><u>ordered collection</u></b> object type.\n",
    "\n",
    "Unlike strings, lists can contain <b><u>any sort of object</u></b>:numbers, strings, and even other lists.\n",
    "\n",
    "Also, unlike strings, lists may be changed in place by assignment to offsets and slices, list method calls, deletion statements, and more as <b><u>they are mutable objects</u></b>."
   ]
  },
  {
   "cell_type": "markdown",
   "metadata": {},
   "source": [
    "<b>Properties of List </b><br><br>\n",
    "<u>Ordered collections of arbitrary objects</u> : List is a group of objects that are orderly arranged as they are sequences.Since it is ordered collection so we can do task such as slicing and concatenation\n",
    "\n",
    "<u>Accessed By Offsets</u>: We can fetch the element of list using index or offset,just like strings.\n",
    "\n",
    "<u>Variable-length, heterogeneous, and arbitrarily nestable</u>:Size of a list can grow and shrink.Also list can contain any sort of object(unlike string which only have characters).And we can also create list of lists.\n",
    "\n",
    "<u>Mutable Sequence</u> Since list is also a sequence so we can use all sequence operations like indexing,slicing and concatenation,just like strings.\n",
    "Also since it is mutable ,so it has some other operations as well like deletion and index assignment operations,which changes the list in place.\n"
   ]
  },
  {
   "cell_type": "code",
   "execution_count": null,
   "metadata": {},
   "outputs": [],
   "source": [
    "#Need to write Table of Contents"
   ]
  },
  {
   "cell_type": "markdown",
   "metadata": {},
   "source": [
    "# Creating a list"
   ]
  },
  {
   "cell_type": "code",
   "execution_count": 1,
   "metadata": {},
   "outputs": [
    {
     "name": "stdout",
     "output_type": "stream",
     "text": [
      "[]\n",
      "[2, 'a', 33, ['x', 4, 'z']]\n",
      "['p', 'y', 't', 'h', 'o', 'n']\n"
     ]
    }
   ],
   "source": [
    "#Empty list\n",
    "empty_list=[]\n",
    "print(empty_list)\n",
    "\n",
    "#List with some elements and nested list\n",
    "non_empty_list=[2,'a',33,['x',4,'z']]\n",
    "print(non_empty_list)\n",
    "\n",
    "#Convert a string into list of chars\n",
    "string_list=list('python')\n",
    "print(string_list)"
   ]
  },
  {
   "cell_type": "code",
   "execution_count": null,
   "metadata": {},
   "outputs": [],
   "source": []
  },
  {
   "cell_type": "markdown",
   "metadata": {},
   "source": [
    "# Basic List Operations\n",
    "\n",
    "Because list is also a sequence,so it supports many of the same operations as strings.\n",
    "For example, lists respond to the + and * operators much like strings—they mean concatenation\n",
    "and repetition here too, except that the result is a new list, not a string:"
   ]
  },
  {
   "cell_type": "code",
   "execution_count": 2,
   "metadata": {},
   "outputs": [
    {
     "name": "stdout",
     "output_type": "stream",
     "text": [
      "4\n",
      "[2, 'a', 33, ['x', 4, 'z'], 'd', 'e', 90]\n",
      "['Hello', 'Python', '!!', 'Hello', 'Python', '!!', 'Hello', 'Python', '!!']\n",
      "True\n",
      "False\n"
     ]
    }
   ],
   "source": [
    "#Lenth of a list\n",
    "print(len([2,'a',33,['x',4,'z']]))\n",
    "\n",
    "#List concatenation\n",
    "print([2,'a',33,['x',4,'z']] + ['d','e',90])\n",
    "\n",
    "#List Repetition\n",
    "print(['Hello','Python',\"!!\"] * 3)\n",
    "\n",
    "#Membership\n",
    "print(2 in [2,'a',33,['x',4,'z']])\n",
    "print(3 in [2,'a',33,['x',4,'z']])"
   ]
  },
  {
   "cell_type": "markdown",
   "metadata": {},
   "source": [
    "<b>List Iteration and Comprehensions</b>"
   ]
  },
  {
   "cell_type": "code",
   "execution_count": 3,
   "metadata": {},
   "outputs": [
    {
     "name": "stdout",
     "output_type": "stream",
     "text": [
      "2\n",
      "a\n",
      "33\n",
      "['x', 4, 'z']\n"
     ]
    }
   ],
   "source": [
    "#List Iteration.Printing each elelment of list \n",
    "for x in [2,'a',33,['x',4,'z']] :\n",
    "    print(x)\n",
    "#Note: It prints the inner list as a whole because for outer list it is one complete object"
   ]
  },
  {
   "cell_type": "markdown",
   "metadata": {},
   "source": [
    "<b>List Comprehensions </b> <br>\n",
    "List Comprehensions are a way to build a new list by applying an expression to each item in a sequence (really, in any iterable), and are close relatives to 'for' loops"
   ]
  },
  {
   "cell_type": "code",
   "execution_count": 4,
   "metadata": {},
   "outputs": [
    {
     "name": "stdout",
     "output_type": "stream",
     "text": [
      "['hh', 'aa', 'cc', 'kk', 'ee', 'rr']\n",
      "['hh', 'aa', 'cc', 'kk', 'ee', 'rr']\n"
     ]
    }
   ],
   "source": [
    "#List Comprehension to double each char in the given string and collect the whole result as one list\n",
    "list_comprehensions= [ch * 2 for ch in 'hacker']\n",
    "print(list_comprehensions)\n",
    "\n",
    "#Equivalent for loop of above list comprehension\n",
    "for_equivalent=[]\n",
    "for x in 'hacker':\n",
    "    for_equivalent.append(x*2)\n",
    "print(for_equivalent)\n"
   ]
  },
  {
   "cell_type": "code",
   "execution_count": null,
   "metadata": {},
   "outputs": [],
   "source": []
  },
  {
   "cell_type": "markdown",
   "metadata": {},
   "source": [
    "# Indexing and Slicing"
   ]
  },
  {
   "cell_type": "code",
   "execution_count": 5,
   "metadata": {},
   "outputs": [
    {
     "name": "stdout",
     "output_type": "stream",
     "text": [
      "C Language\n",
      "Kotlin\n",
      "['C Language', 'C++', 'Swift', 'Kotlin']\n",
      "['C++', 'Swift', 'Kotlin']\n"
     ]
    }
   ],
   "source": [
    "index_list=['java','python','C Language','C++','Swift','Kotlin']\n",
    "\n",
    "#Index 3rd element of list\n",
    "print(index_list[2])\n",
    "#Index last element of the list\n",
    "print(index_list[-1])\n",
    "\n",
    "#Slice all the elements but not the first two\n",
    "print(index_list[2:])\n",
    "#Slice last 3 element of list\n",
    "print(index_list[-3:])\n",
    "\n"
   ]
  },
  {
   "cell_type": "markdown",
   "metadata": {},
   "source": [
    "# Mutable Operations on List\n",
    "Because lists are mutable, they support operations that <i><u><b>change a list object in place</b></u></i>.\n",
    "That is, the operations in this section all modify the list object directly—overwriting\n",
    "its former value—without requiring that you make a new copy, as you had to for strings"
   ]
  },
  {
   "cell_type": "markdown",
   "metadata": {},
   "source": [
    "<b>Index and Slice Assignment</b>"
   ]
  },
  {
   "cell_type": "code",
   "execution_count": 6,
   "metadata": {},
   "outputs": [
    {
     "name": "stdout",
     "output_type": "stream",
     "text": [
      "Initial List :- ['java', 'python', 'C Language', 'C++', 'Swift', 'Kotlin']\n",
      "After index assignment:- ['java', 'python', 'Ruby', 'C++', 'Swift', 'Kotlin']\n",
      "After slice assignment:- ['java', 'Scala', 'R', 'PHP', 'Swift', 'Kotlin']\n",
      "After slice assignment (replacement/insertion) :- ['java', 'Python', 'Ruby', 'R', 'PHP', 'Swift', 'Kotlin']\n",
      "After slice assignment (replace nothing) :- ['java', 'C language', 'Go', 'Python', 'Ruby', 'R', 'PHP', 'Swift', 'Kotlin']\n",
      "After slice assignment (deletion and insert nothing) :- ['java', 'Python', 'Ruby', 'R', 'PHP', 'Swift', 'Kotlin']\n"
     ]
    }
   ],
   "source": [
    "mutable_list=['java','python','C Language','C++','Swift','Kotlin']\n",
    "print('Initial List :-',mutable_list)\n",
    "\n",
    "#Assign New Element to a given index\n",
    "mutable_list[2]='Ruby' #Notice that i am not storing the modified list to a new list.It will overwrite the existing one.\n",
    "print('After index assignment:-',mutable_list)\n",
    "\n",
    "#Slice Assignment= Delete+Insert\n",
    "#Delete the element from 1 to 3rd index and insert the new ones\n",
    "mutable_list[1:4]=['Scala', 'R' , 'PHP']\n",
    "print('After slice assignment:-',mutable_list)\n",
    "\n",
    "# Slice Assignment =replacement/insertion\n",
    "#Suppose we have more elements to insert and we slice less elements\n",
    "mutable_list[1:2]=['Python','Ruby']\n",
    "print('After slice assignment (replacement/insertion) :-',mutable_list)\n",
    "\n",
    "#Slice assignment=Insertion(replace nothing)\n",
    "mutable_list[1:1]=['C language','Go']\n",
    "print('After slice assignment (replace nothing) :-',mutable_list)\n",
    "\n",
    "#Slice assignment=deletion(insert nothing)\n",
    "mutable_list[1:3]=[]\n",
    "print('After slice assignment (deletion and insert nothing) :-',mutable_list)"
   ]
  },
  {
   "cell_type": "code",
   "execution_count": null,
   "metadata": {},
   "outputs": [],
   "source": []
  },
  {
   "cell_type": "markdown",
   "metadata": {},
   "source": [
    "# List Methods Call"
   ]
  },
  {
   "cell_type": "markdown",
   "metadata": {},
   "source": [
    "<b><u>Add elements to the current List using append,extend and insert</u></b>"
   ]
  },
  {
   "cell_type": "code",
   "execution_count": 7,
   "metadata": {},
   "outputs": [
    {
     "name": "stdout",
     "output_type": "stream",
     "text": [
      "List before any addition:-  ['java', 'python', 'C Language', 'C++']\n",
      "After append method :-  ['java', 'python', 'C Language', 'C++', ['php', 'ruby']]\n",
      "After extend method :-  ['java', 'python', 'C Language', 'C++', ['php', 'ruby'], 'Go', 'Scala', 'R']\n",
      "After insert method :-  ['java', ['Swift', 'Kotlin'], 'python', 'C Language', 'C++', ['php', 'ruby'], 'Go', 'Scala', 'R']\n"
     ]
    }
   ],
   "source": [
    "list_method=['java','python','C Language','C++']\n",
    "print('List before any addition:- ',list_method )\n",
    "\n",
    "#Append an element to the current list\n",
    "list_method.append(['php','ruby'])\n",
    "print('After append method :- ',list_method)\n",
    "\n",
    "#Insert and element using extend method\n",
    "list_method.extend(['Go','Scala','R'])\n",
    "print('After extend method :- ',list_method)\n",
    "\n",
    "#Add an element using isnert method\n",
    "list_method.insert(1,['Swift','Kotlin'])\n",
    "print('After insert method :- ',list_method)"
   ]
  },
  {
   "cell_type": "markdown",
   "metadata": {},
   "source": [
    "<u><b>append vs extend vs insert</b></u>\n",
    "\n",
    "<b><u>append()</u></b>: It will add the element to the last of the current list.But suppose we have given it a list to insert as new element then it will insert the new list as a nested list.\n",
    "\n",
    "<b><u>extend()</u></b>: It will also add the element to the last location like append.\n",
    "It differs from append() in the form that in case we add a list object using extend,\n",
    "then it will extends current list by appending elements from the iterable.It means that it will not create nested list.\n",
    "\n",
    "<b><u>insert()</u></b>:It requires an index where we need to add the new element.Index is mandatory\n"
   ]
  },
  {
   "cell_type": "markdown",
   "metadata": {},
   "source": [
    "<u><b>Sorting a list</b></u>"
   ]
  },
  {
   "cell_type": "code",
   "execution_count": 8,
   "metadata": {},
   "outputs": [
    {
     "name": "stdout",
     "output_type": "stream",
     "text": [
      "Original list before sorting :-  ['java', 'python', 'c Language', 'c++']\n",
      "List after sorting:-  ['c Language', 'c++', 'java', 'python']\n"
     ]
    }
   ],
   "source": [
    "sort_list=['java','python','c Language','c++']\n",
    "print('Original list before sorting :- ',sort_list)\n",
    "\n",
    "#Simple use of sort()\n",
    "sort_list.sort()\n",
    "print('List after sorting:- ',sort_list)"
   ]
  },
  {
   "cell_type": "markdown",
   "metadata": {},
   "source": [
    "Sorting using <i>key</i> and <i>reverse</i> parameter :<br>\n",
    "\n",
    "key param is used to specify a function to be called on each list element prior to making comparisons.\n",
    "The value of the key parameter should be a function that takes a single argument and returns a key to use for sorting purposes. This technique is fast because the key function is called exactly once for each input record.The effect of key param is temporarily applied while sorting and values remain unaffected by its use<br>\n",
    "\n",
    "reverse is a boolean param argument that allows sorts to be made in descending instead of ascending order."
   ]
  },
  {
   "cell_type": "code",
   "execution_count": 9,
   "metadata": {},
   "outputs": [
    {
     "name": "stdout",
     "output_type": "stream",
     "text": [
      "Before any sorting:-  ['abc', 'ABD', 'aBe']\n",
      "After default param sorting:-  ['ABD', 'aBe', 'abc']\n",
      "After key param sorting:-  ['abc', 'ABD', 'aBe']\n",
      "Descending order sorting:-  ['abc', 'aBe', 'ABD']\n"
     ]
    }
   ],
   "source": [
    "list_alphabets = ['abc', 'ABD', 'aBe']\n",
    "print(\"Before any sorting:- \", list_alphabets)\n",
    "\n",
    "#After sort() with default params\n",
    "list_alphabets.sort()\n",
    "print(\"After default param sorting:- \", list_alphabets)\n",
    "#Observe that ABD comes before abc bcoz it is in uppercase\n",
    "\n",
    "#Sorting using key param\n",
    "list_alphabets.sort(key=str.lower)\n",
    "print(\"After key param sorting:- \", list_alphabets)\n",
    "\n",
    "#Sorting using reverse param\n",
    "list_alphabets.sort(reverse=True)\n",
    "print(\"Descending order sorting:- \", list_alphabets)"
   ]
  },
  {
   "cell_type": "markdown",
   "metadata": {},
   "source": [
    "<b><u>sorted method story</u></b><br>\n",
    "When you use attributes such as append() and sort(), objects are changed as a side effect, so there’s no reason to reassign.<br>\n",
    "Partly because of such constraints, sorting is also available in recent Pythons as a builtin function, which sorts any collection (not just lists) and returns a new list for the result (instead of in-place changes)\n"
   ]
  },
  {
   "cell_type": "code",
   "execution_count": 10,
   "metadata": {},
   "outputs": [
    {
     "name": "stdout",
     "output_type": "stream",
     "text": [
      "Before any sorting:-  ['abc', 'ABD', 'aBe']\n",
      "New list after sorting:-  ['aBe', 'ABD', 'abc']\n",
      "New list after sorting:-  ['abe', 'abd', 'abc']\n"
     ]
    }
   ],
   "source": [
    "sorted_list=['abc', 'ABD', 'aBe']\n",
    "print(\"Before any sorting:- \", sorted_list)\n",
    "\n",
    "new_sorted_list=sorted(sorted_list, key=str.lower, reverse=True)\n",
    "print('New list after sorting:- ',new_sorted_list)\n",
    "\n",
    "\n",
    "# Pretransform items: differs!\n",
    "new_pretransform_list=sorted([x.lower() for x in sorted_list], reverse=True)\n",
    "print('New list after sorting:- ', new_pretransform_list)\n",
    "#Observe that values are changed to lowercase in output when we used list comprehension.\n",
    "# But when we use key param it remains same..key param is applied temporarily"
   ]
  },
  {
   "cell_type": "markdown",
   "metadata": {},
   "source": [
    "<u><b>Other Common List methods</b></u>"
   ]
  },
  {
   "cell_type": "code",
   "execution_count": 11,
   "metadata": {},
   "outputs": [
    {
     "name": "stdout",
     "output_type": "stream",
     "text": [
      "List before reverse:-  ['java', 'python', 'c Language', 'c++']\n",
      "List after reverse:-  ['c++', 'c Language', 'python', 'java']\n",
      "New List after reverse:-  ['java', 'python', 'c Language', 'c++']\n"
     ]
    }
   ],
   "source": [
    "#reverse() and reversed() : \n",
    "#reverse () is used to reverse a list in place.\n",
    "#reversed() is used to reverse a list and get a new copy but it must be wrapped in a list call bcoz \n",
    "#its result is an iterator that produces result on demand\n",
    "\n",
    "reverse_list=['java','python','c Language','c++']\n",
    "print('List before reverse:- ',reverse_list)\n",
    "\n",
    "#Use reverse method\n",
    "reverse_list.reverse()\n",
    "print('List after reverse:- ',reverse_list)\n",
    "\n",
    "#reversed method\n",
    "new_reverse_list=list(reversed(reverse_list))\n",
    "print('New List after reverse:- ',new_reverse_list)\n",
    "\n"
   ]
  },
  {
   "cell_type": "code",
   "execution_count": 12,
   "metadata": {},
   "outputs": [
    {
     "name": "stdout",
     "output_type": "stream",
     "text": [
      "Original list:-  ['java', 'python', 'c Language', 'c++', 'php', 'ruby']\n",
      "3\n"
     ]
    }
   ],
   "source": [
    "#Find index of an element in list\n",
    "index_list=['java','python','c Language','c++','php','ruby']\n",
    "print('Original list:- ',index_list)\n",
    "\n",
    "#Print index of c++\n",
    "print(index_list.index('c++'))"
   ]
  },
  {
   "cell_type": "code",
   "execution_count": 13,
   "metadata": {},
   "outputs": [
    {
     "name": "stdout",
     "output_type": "stream",
     "text": [
      "Number of java in the list is:-  3\n"
     ]
    }
   ],
   "source": [
    "#Count element in list\n",
    "count_list=['java','python','c Language','c++','php','ruby','java','python','java']\n",
    "print('Number of java in the list is:- ', count_list.count('java'))"
   ]
  },
  {
   "cell_type": "markdown",
   "metadata": {},
   "source": [
    "<u><b>Deleting elements from the list</b></u>"
   ]
  },
  {
   "cell_type": "code",
   "execution_count": 14,
   "metadata": {},
   "outputs": [
    {
     "name": "stdout",
     "output_type": "stream",
     "text": [
      "Original list:-  ['java', 'python', 'c Language', 'c++', 'php', 'ruby']\n",
      "Item deleted is:-  ruby\n",
      "List after deleting one item:-  ['java', 'python', 'c Language', 'c++', 'php']\n",
      "Item deleted is:-  python\n",
      "List after deleting second item:-  ['java', 'c Language', 'c++', 'php']\n"
     ]
    }
   ],
   "source": [
    "#pop method:It deletes and return the deleted item.By default if no offset is provided it will delete from last\n",
    "common_list=['java','python','c Language','c++','php','ruby']\n",
    "print('Original list:- ',common_list)\n",
    "\n",
    "#Pop last item\n",
    "item=common_list.pop()\n",
    "print('Item deleted is:- ',item)\n",
    "print('List after deleting one item:- ',common_list)\n",
    "\n",
    "#pop second item\n",
    "item=common_list.pop(1) #index start from 0\n",
    "print('Item deleted is:- ',item)\n",
    "print('List after deleting second item:- ',common_list)\n"
   ]
  },
  {
   "cell_type": "code",
   "execution_count": 15,
   "metadata": {},
   "outputs": [
    {
     "name": "stdout",
     "output_type": "stream",
     "text": [
      "List before deletion:-  ['java', 'python', 'c Language', 'c++', 'php', 'ruby', 'java', 'python', 'java']\n",
      "After removing php from the list:-  ['java', 'python', 'c Language', 'c++', 'ruby', 'java', 'python', 'java']\n",
      "After removing java from the list:-  ['python', 'c Language', 'c++', 'ruby', 'java', 'python', 'java']\n"
     ]
    }
   ],
   "source": [
    "#remove method:It takes an element that is to be removed from the list and remove the first occurence of that element\n",
    "remove_list=['java','python','c Language','c++','php','ruby','java','python','java']\n",
    "print('List before deletion:- ',remove_list)\n",
    "\n",
    "#remove php from the list\n",
    "remove_list.remove('php')\n",
    "print('After removing php from the list:- ',remove_list)\n",
    "\n",
    "#remove element 'java' from the list.Note that java has multiple occurence so it will delete only first occurence\n",
    "remove_list.remove('java')\n",
    "print('After removing java from the list:- ',remove_list)\n",
    "\n",
    "#removing an element not present in the list will raise ValueError\n"
   ]
  },
  {
   "cell_type": "code",
   "execution_count": 16,
   "metadata": {},
   "outputs": [
    {
     "name": "stdout",
     "output_type": "stream",
     "text": [
      "List before deletion:-  ['java', 'python', 'c Language', 'c++', 'php', 'ruby']\n",
      "List after deleting 3rd element:-  ['java', 'python', 'c++', 'php', 'ruby']\n",
      "List after deleting 2nd and 3rd element:-  ['java', 'php', 'ruby']\n",
      "List after deleting all but not last:-  ['ruby']\n"
     ]
    }
   ],
   "source": [
    "# del statement :Used to delete an item or section\n",
    "del_list=['java','python','c Language','c++','php','ruby']\n",
    "print('List before deletion:- ',del_list)\n",
    "\n",
    "#Remove 3rd element from the list\n",
    "del del_list[2]\n",
    "print('List after deleting 3rd element:- ',del_list)\n",
    "\n",
    "#Use slice to delete elements\n",
    "#Remove 2nd and 3rd elements from the list\n",
    "del del_list[1:3]\n",
    "print('List after deleting 2nd and 3rd element:- ',del_list)\n",
    "\n",
    "#remove all elements except the last\n",
    "del del_list[:-1]\n",
    "print('List after deleting all but not last:- ',del_list)\n"
   ]
  }
 ],
 "metadata": {
  "kernelspec": {
   "display_name": "Python 3",
   "language": "python",
   "name": "python3"
  },
  "language_info": {
   "codemirror_mode": {
    "name": "ipython",
    "version": 3
   },
   "file_extension": ".py",
   "mimetype": "text/x-python",
   "name": "python",
   "nbconvert_exporter": "python",
   "pygments_lexer": "ipython3",
   "version": "3.7.3"
  }
 },
 "nbformat": 4,
 "nbformat_minor": 2
}
