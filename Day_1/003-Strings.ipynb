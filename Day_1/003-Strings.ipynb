{
 "cells": [
  {
   "cell_type": "markdown",
   "metadata": {},
   "source": [
    "# String\n",
    "\n",
    "String is an ordered collection of characters used to store and represent text and byte based information.\n",
    "\n",
    "From a functional perspective, strings can be used to represent just about anything that\n",
    "can be encoded as text or bytes.\n",
    "\n",
    "In the text department, this includes symbols and words (e.g., your name), contents of text files loaded into memory, Internet addresses,\n",
    "Python source code, and so on.\n",
    "\n",
    "Strings can also be used to hold the raw bytes used for media files and network transfers, and both the encoded and decoded forms of non-\n",
    "ASCII Unicode text used in internationalized programs\n",
    "\n",
    "Python strings are categorized as immutable sequences, meaning that the characters they contain have a \n",
    "left-to-right positional order and that they cannot be changed in place.\n",
    "For example, Python understands the string 'hello' to be a sequence of letters in a specific order.\n",
    "\n",
    "\n"
   ]
  },
  {
   "cell_type": "markdown",
   "metadata": {},
   "source": [
    "We will divide this topics into following sections:<br>\n",
    "\n",
    "1) Creating a String <br>\n",
    "2) Basic Operations <br>\n",
    "3) Indexing and Slicing <br>\n",
    "4) String Conversions <br>\n",
    "5) String Methods   <br>"
   ]
  },
  {
   "cell_type": "markdown",
   "metadata": {},
   "source": [
    "# Creating a String"
   ]
  },
  {
   "cell_type": "code",
   "execution_count": 1,
   "metadata": {},
   "outputs": [
    {
     "name": "stdout",
     "output_type": "stream",
     "text": [
      "Single quoted string\n",
      "Double quoted string\n"
     ]
    }
   ],
   "source": [
    "# String with single quote\n",
    "print('Single quoted string')\n",
    "# String with double quote\n",
    "print(\"Double quoted string\")\n",
    "\n"
   ]
  },
  {
   "cell_type": "code",
   "execution_count": 2,
   "metadata": {},
   "outputs": [
    {
     "data": {
      "text/plain": [
       "('knight\"s', \"knight's\")"
      ]
     },
     "execution_count": 2,
     "metadata": {},
     "output_type": "execute_result"
    }
   ],
   "source": [
    "#The reason for supporting both is that it allows you to embed a quote character of the\n",
    "#other variety inside a string without escaping it with a backslash. You may embed a\n",
    "#single-quote character in a string enclosed in double-quote characters, and vice versa:\n",
    "\n",
    "'knight\"s', \"knight's\"\n"
   ]
  },
  {
   "cell_type": "code",
   "execution_count": 3,
   "metadata": {},
   "outputs": [
    {
     "name": "stdout",
     "output_type": "stream",
     "text": [
      " This is\n",
      " a triple\n",
      " quote....\n"
     ]
    }
   ],
   "source": [
    "#Triple Quotes Code Multiline Block Strings\n",
    "#Python also has a triple-quoted string literal format, sometimes called a block string,\n",
    "#that is a syntactic convenience for coding multiline text data.Commonly used for documentation strings.\n",
    "\n",
    "triple_quote=''' This is\n",
    " a triple\n",
    " quote....'''\n",
    "print(triple_quote)"
   ]
  },
  {
   "cell_type": "code",
   "execution_count": 4,
   "metadata": {},
   "outputs": [
    {
     "name": "stdout",
     "output_type": "stream",
     "text": [
      "hello\n",
      "python\n",
      "hello\\npython\n"
     ]
    }
   ],
   "source": [
    "# Escape sequnce with string\n",
    "s='hello\\npython'\n",
    "print(s)\n",
    "\n",
    "#Raw Strings Suppress Escapes\n",
    "#If the letter r (uppercase or lowercase) appears just before the opening quote of a string, it turns off the escape\n",
    "#mechanism. The result is that Python retains your backslashes literally, exactly as you type them.\n",
    "raw_string=r'hello\\npython'\n",
    "print(raw_string)"
   ]
  },
  {
   "cell_type": "code",
   "execution_count": 5,
   "metadata": {},
   "outputs": [
    {
     "name": "stdout",
     "output_type": "stream",
     "text": [
      "Another String\n"
     ]
    }
   ],
   "source": [
    "#Use str function\n",
    "str_string=str('Another String')\n",
    "print(str_string)"
   ]
  },
  {
   "cell_type": "markdown",
   "metadata": {},
   "source": [
    "# Basic Operations"
   ]
  },
  {
   "cell_type": "code",
   "execution_count": 6,
   "metadata": {},
   "outputs": [
    {
     "name": "stdout",
     "output_type": "stream",
     "text": [
      "19\n",
      "hello python\n",
      "hello python\n"
     ]
    }
   ],
   "source": [
    "#Length of string\n",
    "print(len('hello python string'))\n",
    "\n",
    "#concatenation \n",
    "print('hello ' + 'python')\n",
    "\n",
    "#Concat without +\n",
    "print('hello ' 'python')\n",
    "\n"
   ]
  },
  {
   "cell_type": "code",
   "execution_count": 7,
   "metadata": {},
   "outputs": [
    {
     "name": "stdout",
     "output_type": "stream",
     "text": [
      "p y t h o n "
     ]
    }
   ],
   "source": [
    "#Traversing String using for loop\n",
    "mystr=\"python\"\n",
    "for m in mystr:\n",
    "    print(m,end=' ')"
   ]
  },
  {
   "cell_type": "code",
   "execution_count": 8,
   "metadata": {},
   "outputs": [
    {
     "name": "stdout",
     "output_type": "stream",
     "text": [
      "True\n",
      "False\n",
      "True\n",
      "False\n"
     ]
    }
   ],
   "source": [
    "# Check whether a particular character is in string or not\n",
    "mystr=\"python\"\n",
    "print('p' in mystr)\n",
    "print('x' in mystr)\n",
    "\n",
    "#check for substring\n",
    "print('th' in mystr)\n",
    "print('ab' in mystr)"
   ]
  },
  {
   "cell_type": "code",
   "execution_count": null,
   "metadata": {},
   "outputs": [],
   "source": []
  },
  {
   "cell_type": "markdown",
   "metadata": {},
   "source": [
    "# Indexing and Slicing\n",
    "\n",
    "Because strings are defined as ordered collections of characters, we can access their components by position.\n",
    "\n",
    "In Python, characters in a string are fetched by indexing— providing the numeric offset of the desired component in square brackets after the string. You get back the one-character string at the specified position."
   ]
  },
  {
   "cell_type": "code",
   "execution_count": 9,
   "metadata": {},
   "outputs": [
    {
     "data": {
      "text/plain": [
       "('h', 'k')"
      ]
     },
     "execution_count": 9,
     "metadata": {},
     "output_type": "execute_result"
    }
   ],
   "source": [
    "#Indexing a string\n",
    "index_string='hacker'\n",
    "index_string[0] , index_string[3]"
   ]
  },
  {
   "cell_type": "code",
   "execution_count": 10,
   "metadata": {},
   "outputs": [
    {
     "name": "stdout",
     "output_type": "stream",
     "text": [
      "ac\n",
      "cker\n",
      "hacke\n",
      "er\n",
      "ke\n",
      "r\n"
     ]
    }
   ],
   "source": [
    "#Slicing String.\n",
    "# string[start:end] will print string from 'start' index till 'end'-1 index\n",
    "#That is, Python fetches all items from the lower bound up to but not including the upper bound, and\n",
    "#returns a new object containing the fetched items\n",
    "\n",
    "\n",
    "\n",
    "\n",
    "slicing_string='hacker'\n",
    "print(slicing_string[1:3]) #Print char from index 1 to 3-1=2.so it will print ac\n",
    "print(slicing_string[2:]) #print char starting from 2nd index till the end\n",
    "print(slicing_string[:-1]) #Print string starting from start and ignore the last character\n",
    "print(slicing_string[-2:]) #Print string  starting from 2nd last character till end\n",
    "print(slicing_string[-3:-1])#Print string starting from last 3rd character and print till one char is left\n",
    "print(slicing_string[-1:])#print last character"
   ]
  },
  {
   "cell_type": "markdown",
   "metadata": {},
   "source": [
    "<b>Extended slicing: The third limit and slice objects.</b><br>\n",
    "In Python 2.3 and later, slice expressions have support for an optional third index, used\n",
    "as a step (sometimes called a stride). The step is added to the index of each item extracted.\n",
    "The full-blown form of a slice is now X[I:J:K], which means “extract all the\n",
    "items in X, from offset I through J−1, by K.” The third limit, K, defaults to +1,"
   ]
  },
  {
   "cell_type": "code",
   "execution_count": 11,
   "metadata": {},
   "outputs": [
    {
     "name": "stdout",
     "output_type": "stream",
     "text": [
      "1234567890\n",
      "13579\n",
      "25\n",
      "0987654321\n",
      "0741\n",
      "9753\n"
     ]
    }
   ],
   "source": [
    "extended_slicing='1234567890'\n",
    "print(extended_slicing)\n",
    "print(extended_slicing[::2]) #Print complete string but in step size of 2\n",
    "print(extended_slicing[1:6:3])#Print from 1st to 5th but in step size of 3\n",
    "print(extended_slicing[::-1])#full slice but from right to left direction(Reverse string)\n",
    "print(extended_slicing[::-3])#full slice but from right to left direction with step size of 3\n",
    "print(extended_slicing[8:1:-2])#from 8th index till 2nd index in reverse order"
   ]
  },
  {
   "cell_type": "code",
   "execution_count": null,
   "metadata": {},
   "outputs": [],
   "source": []
  },
  {
   "cell_type": "markdown",
   "metadata": {},
   "source": [
    "# String Conversion"
   ]
  },
  {
   "cell_type": "code",
   "execution_count": 12,
   "metadata": {},
   "outputs": [
    {
     "ename": "TypeError",
     "evalue": "can only concatenate str (not \"int\") to str",
     "output_type": "error",
     "traceback": [
      "\u001b[1;31m---------------------------------------------------------------------------\u001b[0m",
      "\u001b[1;31mTypeError\u001b[0m                                 Traceback (most recent call last)",
      "\u001b[1;32m<ipython-input-12-a7d1a8c50716>\u001b[0m in \u001b[0;36m<module>\u001b[1;34m\u001b[0m\n\u001b[1;32m----> 1\u001b[1;33m \u001b[1;34m\"42\"\u001b[0m\u001b[1;33m+\u001b[0m \u001b[1;36m1\u001b[0m \u001b[1;31m#Shows error because 1 is not string.+ operator gets confused here because one is string and other is integer\u001b[0m\u001b[1;33m\u001b[0m\u001b[1;33m\u001b[0m\u001b[0m\n\u001b[0m",
      "\u001b[1;31mTypeError\u001b[0m: can only concatenate str (not \"int\") to str"
     ]
    }
   ],
   "source": [
    "\"42\"+ 1 #Shows error because 1 is not string.+ operator gets confused here because one is string and other is integer"
   ]
  },
  {
   "cell_type": "code",
   "execution_count": null,
   "metadata": {},
   "outputs": [],
   "source": [
    "#Creating string literal from int\n",
    "str_int=str(1000) #str function converts a number to its string representation\n",
    "print(type(str_int))\n",
    "\n",
    "#Converting string literal to int(only if it can be parsed to integer,else ValueError)\n",
    "x=int('10') # int function converts a string to integer\n",
    "print(type(x))\n",
    "\n",
    "#Converting string literal to float\n",
    "f=float('10.3') # float function converts a string to integer\n",
    "print(type(f))"
   ]
  },
  {
   "cell_type": "markdown",
   "metadata": {},
   "source": [
    "<b>str() and repr() Display Formats</b><br>\n",
    "\n",
    "Both of these convert arbitrary objects to their string representations:\n",
    "\n",
    "repr (and thedefault interactive echo) produces results that look as though they were code;\n",
    "repr() is mainly used for debugging and development.\n",
    "repr’s goal is to be unambiguous.\n",
    "repr returns the object as a string of code that can be rerun to recreate the object.\n",
    "\n",
    "str (and the print operation) converts to a typically more user-friendly format if available.\n",
    "str() is used for creating output for end user\n",
    "str’s is to be readable.\n",
    "\n",
    "Some objects have both—a str for general use, and a repr with extra details."
   ]
  },
  {
   "cell_type": "code",
   "execution_count": null,
   "metadata": {},
   "outputs": [],
   "source": [
    "print(str('spam'), repr('spam'))"
   ]
  },
  {
   "cell_type": "markdown",
   "metadata": {},
   "source": [
    "<b>Character Code Conversion</b>"
   ]
  },
  {
   "cell_type": "code",
   "execution_count": null,
   "metadata": {},
   "outputs": [],
   "source": [
    "print(ord('s')) #Actual Binary value to represent the character in memory\n",
    "print(chr(67)) # Take an integer and convert it to its corresponding character"
   ]
  },
  {
   "cell_type": "markdown",
   "metadata": {},
   "source": [
    "<b>Can we change the String ? </b><br>\n",
    "No String is an immutable sequence object in python"
   ]
  },
  {
   "cell_type": "code",
   "execution_count": null,
   "metadata": {},
   "outputs": [],
   "source": [
    "string_immutable='hello'\n",
    "string_immutable[2]='x'  #Raise an error"
   ]
  },
  {
   "cell_type": "markdown",
   "metadata": {},
   "source": [
    "<b>String Formatting</b>"
   ]
  },
  {
   "cell_type": "code",
   "execution_count": null,
   "metadata": {},
   "outputs": [],
   "source": [
    "#Format Expressions.All Pythons\n",
    "print('That is %d %s bird!'%(1,'dead'))\n",
    "#Format method in 2.6,2.7 and 3.X\n",
    "print('That is {0} {1} bird!'.format(1,'dead'))"
   ]
  },
  {
   "cell_type": "markdown",
   "metadata": {},
   "source": [
    "# String methods"
   ]
  },
  {
   "cell_type": "markdown",
   "metadata": {},
   "source": [
    "String provides a set of methods that implement more sophisticated text-processing tasks.\n",
    "There are lot of methods for string and they changes frequently.\n",
    "We call methods with a period and then the method name. Methods are in the form: object.method(parameters)"
   ]
  },
  {
   "cell_type": "code",
   "execution_count": null,
   "metadata": {},
   "outputs": [],
   "source": [
    "string_method='Hello,Python'\n",
    "print(string_method.upper()) #Convert string to uppercase\n",
    "print(string_method.lower()) #Convert string to lowercase\n",
    "\n",
    "print(string_method.split(',')) #Split string using comma as splitting point.Default is space\n",
    "print(string_method.endswith('hon')) #Check whther the end of string contains the given string\n",
    "print(string_method.startswith('Hel')) #Check whther the start of string contains the given string"
   ]
  },
  {
   "cell_type": "code",
   "execution_count": null,
   "metadata": {},
   "outputs": [],
   "source": [
    "#Convert string to list of chars\n",
    "string_method='String Is Immutable'\n",
    "list_string=list(string_method)\n",
    "print(list_string)"
   ]
  },
  {
   "cell_type": "code",
   "execution_count": 17,
   "metadata": {},
   "outputs": [
    {
     "name": "stdout",
     "output_type": "stream",
     "text": [
      "python-is-a-programming-language\n"
     ]
    }
   ],
   "source": [
    "#join method\n",
    "#Suppose we have a given list of string objects .\n",
    "#Now we want to merge all these objets into one with some delimeter after every object\n",
    "#This is where join method is handy\n",
    "\n",
    "list_join=['python','is','a','programming','language']\n",
    "string_join='-'.join(list_join)\n",
    "print(string_join)"
   ]
  }
 ],
 "metadata": {
  "kernelspec": {
   "display_name": "Python 3",
   "language": "python",
   "name": "python3"
  },
  "language_info": {
   "codemirror_mode": {
    "name": "ipython",
    "version": 3
   },
   "file_extension": ".py",
   "mimetype": "text/x-python",
   "name": "python",
   "nbconvert_exporter": "python",
   "pygments_lexer": "ipython3",
   "version": "3.7.3"
  }
 },
 "nbformat": 4,
 "nbformat_minor": 2
}
