{
 "cells": [
  {
   "cell_type": "markdown",
   "metadata": {},
   "source": [
    "# Tuple"
   ]
  },
  {
   "cell_type": "markdown",
   "metadata": {},
   "source": [
    "They work exactly like lists, except that tuples can’t be changed in place (they’re immutable) and\n",
    "are usually written as a series of items in parentheses '()', not square brackets '[]'\n",
    "\n",
    "They don’t support as many methods, tuples share most of their properties with lists.\n",
    "\n",
    "<b>Features of Tuple</b><br>\n",
    "<u>Ordered collections of arbitrary objects</u>: A tuple is like a list in which elements are positionally ordered and We can insert any kind of object in tuple.<br><br>\n",
    "<u>Accessed By Offsets</u>: We can fetch the element of list using index or offset,just like strings and lists<br><br>\n",
    "<u>Immutable Sequences</u>:Tuple are sequences like strings and list.But tuple is immutable as opposed to string.They dont support any kind of in-place changes applied to lists.<br><br>\n",
    "<u>Fixed Length </u>:Because tuples are immutable,we cannot changes size of tuple without making a copy\n"
   ]
  },
  {
   "cell_type": "markdown",
   "metadata": {},
   "source": [
    "# Some common cases where you can use tuple instead of list ."
   ]
  },
  {
   "cell_type": "markdown",
   "metadata": {},
   "source": [
    "Tuples are immutable so we can be sure that it can't be changed through another reference elsewhere\n",
    "in a program, but there’s no such guarantee for lists. <br>\n",
    "\n",
    "Tuples can also be used as a key in dictionary(keys in dictionary should be immutable) whereas a list can't be used as a key.<br>\n",
    "\n",
    "As a rule of thumb, lists are the tool of choice for ordered collections that might need to change; tuples can handle the other cases of fixed associations."
   ]
  },
  {
   "cell_type": "markdown",
   "metadata": {},
   "source": [
    "# Creating a Tuple"
   ]
  },
  {
   "cell_type": "code",
   "execution_count": 1,
   "metadata": {},
   "outputs": [
    {
     "name": "stdout",
     "output_type": "stream",
     "text": [
      "Empty tuple:  ()\n",
      "simple tuple:  (1, 2, 3)\n",
      "Nested Tuple:  (1, 2, 'Tuple', ('Hi', 4, 5))\n",
      "No Parenthesis Tuple:  (1, 2, 3, 4, 'Hello Tuple')\n",
      "Tuple created using tuple function:  (2, 4, 'Hello', 'Tuple')\n",
      "Tuple using lists  ('java', 'python', 'c Language', 'c++')\n"
     ]
    }
   ],
   "source": [
    "empty_tuple=() #Empty tuple\n",
    "print(\"Empty tuple: \",empty_tuple)\n",
    "\n",
    "simple_tuple = (1, 2, 3) #3 elements tuple\n",
    "print(\"simple tuple: \",simple_tuple)\n",
    "\n",
    "nested_tuple=(1,2,\"Tuple\",('Hi',4,5)) #Tuple inside a tuple with Heterogeneous objects\n",
    "print(\"Nested Tuple: \",nested_tuple)\n",
    "\n",
    "#Tuples are created by default if you leave out the parentheses if it isn’t syntactically ambiguous to do so.\n",
    "no_parenthesis_tuple= 1,2,3,4,'Hello Tuple' \n",
    "print(\"No Parenthesis Tuple: \",no_parenthesis_tuple)\n",
    "\n",
    "#Using the tuple function\n",
    "print(\"Tuple created using tuple function: \",tuple((2,4,'Hello','Tuple')))\n",
    "\n",
    "#Make a tuple using lists\n",
    "print(\"Tuple using lists \",tuple(['java','python','c Language','c++']))\n"
   ]
  },
  {
   "cell_type": "code",
   "execution_count": 2,
   "metadata": {},
   "outputs": [
    {
     "name": "stdout",
     "output_type": "stream",
     "text": [
      "Single element without comma.Is it tuple ? : <class 'int'>\n",
      "Single element with comma.Is it tuple ? : <class 'tuple'>\n",
      "Zero element without comma.Is it tuple ? : <class 'tuple'>\n",
      "a=1, b=2, c=3 \n",
      "a=1, b=[2, 3], c=4 \n"
     ]
    }
   ],
   "source": [
    "\n",
    "# Note that a tuple of length one has to have a comma after the last element but\n",
    "# tuples of other lengths, even zero, do not.\n",
    "print(\"Single element without comma.Is it tuple ? :\",type((1)))  \n",
    "print(\"Single element with comma.Is it tuple ? :\",type((1,)))\n",
    "print(\"Zero element without comma.Is it tuple ? :\",type(()))\n",
    "\n",
    "# Unpack tuples (or lists) into variables\n",
    "a, b, c = (1, 2, 3)\n",
    "print(\"a={}, b={}, c={} \".format(a,b,c))\n",
    "\n",
    "# Extended Unpacking\n",
    "a, *b, c = (1, 2, 3, 4)  # a is now 1, b is now [2, 3] and c is now 4\n",
    "print(\"a={}, b={}, c={} \".format(a,b,c))"
   ]
  },
  {
   "cell_type": "code",
   "execution_count": null,
   "metadata": {},
   "outputs": [],
   "source": []
  },
  {
   "cell_type": "markdown",
   "metadata": {},
   "source": [
    "# Tuple Operations"
   ]
  },
  {
   "cell_type": "markdown",
   "metadata": {},
   "source": [
    "Tuples do not have all the methods that lists have (e.g., an append call won’twork here).\n",
    "They do, however, support the usual sequence operations that are available for String and List."
   ]
  },
  {
   "cell_type": "code",
   "execution_count": 3,
   "metadata": {},
   "outputs": [
    {
     "name": "stdout",
     "output_type": "stream",
     "text": [
      "Length of this tuple is:  4\n",
      "First tuple is :  (1, 24, 'Hello', (3, 4, 5))\n",
      "Second tuple is :  ('World', 3.4, 100, 2)\n",
      "Concat tuple is :  (1, 24, 'Hello', (3, 4, 5), 'World', 3.4, 100, 2)\n",
      "(1, 2, 'Hi', 1, 2, 'Hi', 1, 2, 'Hi', 1, 2, 'Hi')\n",
      "True\n",
      "False\n"
     ]
    }
   ],
   "source": [
    "#Length of a tuple\n",
    "print(\"Length of this tuple is: \",len((1,24,'Hello',(3,4,5))))\n",
    "\n",
    "#Tuple Concatenation\n",
    "first_tuple=(1,24,'Hello',(3,4,5))\n",
    "second_tuple=('World',3.4,100,2)\n",
    "print('First tuple is : ',first_tuple)\n",
    "print('Second tuple is : ',second_tuple)\n",
    "print('Concat tuple is : ',first_tuple+second_tuple)\n",
    "\n",
    "#Repetition\n",
    "print((1,2,'Hi')*4)\n",
    "\n",
    "#Membership\n",
    "print(2 in (2,'a',33,['x',4,'z']))\n",
    "print(3 in (2,'a',33,['x',4,'z']))"
   ]
  },
  {
   "cell_type": "markdown",
   "metadata": {},
   "source": [
    "# Indexing and Slicing\n"
   ]
  },
  {
   "cell_type": "code",
   "execution_count": 4,
   "metadata": {},
   "outputs": [
    {
     "name": "stdout",
     "output_type": "stream",
     "text": [
      "C Language\n",
      "Kotlin\n",
      "('C Language', 'C++', 'Swift', 'Kotlin')\n",
      "('C++', 'Swift', 'Kotlin')\n"
     ]
    }
   ],
   "source": [
    "#Index and Slicing.It works same like list\n",
    "index_tuple=('java','python','C Language','C++','Swift','Kotlin')\n",
    "\n",
    "#Index 3rd element of tuple\n",
    "print(index_tuple[2])\n",
    "#Index last element of the tuple\n",
    "print(index_tuple[-1])\n",
    "\n",
    "#Slice all the elements but not the first two\n",
    "print(index_tuple[2:])\n",
    "#Slice last 3 element of tuple\n",
    "print(index_tuple[-3:])\n",
    "\n"
   ]
  },
  {
   "cell_type": "markdown",
   "metadata": {},
   "source": [
    "# Traversing the Tuple"
   ]
  },
  {
   "cell_type": "code",
   "execution_count": 5,
   "metadata": {},
   "outputs": [
    {
     "name": "stdout",
     "output_type": "stream",
     "text": [
      "2 a 33 ['x', 4, 'z'] (6, 7, 8) "
     ]
    }
   ],
   "source": [
    "traversing_tuple=(2,'a',33,['x',4,'z'],(6,7,8))\n",
    "#Works similar like lists\n",
    "for item in traversing_tuple:\n",
    "    print(item , end=' ')"
   ]
  },
  {
   "cell_type": "code",
   "execution_count": null,
   "metadata": {},
   "outputs": [],
   "source": []
  },
  {
   "cell_type": "markdown",
   "metadata": {},
   "source": [
    "# Methods of Tuple"
   ]
  },
  {
   "cell_type": "markdown",
   "metadata": {},
   "source": [
    "Tuples don't have the same methods as we have for Strings,List and dictionaries.But they do have two of their own as of Python 2.6 and 3.0 - <b>index and count</b> . They work as they do for lists. <br>\n",
    "\n",
    "Prior to 2.6 and 3.0, tuples have no methods at all—this was an old Python convention for immutable types, which was violated years ago on grounds of practicality with strings, and more recently with both numbers and tuples."
   ]
  },
  {
   "cell_type": "code",
   "execution_count": 6,
   "metadata": {},
   "outputs": [
    {
     "name": "stdout",
     "output_type": "stream",
     "text": [
      "Index of 3 in tuple is  2\n",
      "How many 3 are there in tuple?  4\n"
     ]
    }
   ],
   "source": [
    "method_tuple=(1,2,3,4,'Hello Tuple',3,100,2,3,3)\n",
    "print(\"Index of 3 in tuple is \",method_tuple.index(3)) # Offset of first appearance of 3\n",
    "print(\"How many 3 are there in tuple? \", method_tuple.count(3))"
   ]
  },
  {
   "cell_type": "markdown",
   "metadata": {},
   "source": [
    "# How to sort a tuple ?\n",
    "If you want to sort a tuple, for example, you’ll usually have to either first convert it to a list to gain\n",
    "access to a sorting method call and make it a mutable object,\n",
    "or use the newer sorted built-in that accepts any sequence object (and other iterables)"
   ]
  },
  {
   "cell_type": "code",
   "execution_count": 7,
   "metadata": {},
   "outputs": [
    {
     "name": "stdout",
     "output_type": "stream",
     "text": [
      "Tuple before sorting:  ('java', 'python', 'C Language', 'C++', 'Swift', 'Kotlin')\n",
      "List created from tuple:  ['java', 'python', 'C Language', 'C++', 'Swift', 'Kotlin']\n",
      "Sorted tuple is:  ('C Language', 'C++', 'Kotlin', 'Swift', 'java', 'python')\n"
     ]
    }
   ],
   "source": [
    "# Convert tuple into list,sort the list and convert sorted list back to tuple\n",
    "sort_tuple=('java','python','C Language','C++','Swift','Kotlin')\n",
    "\n",
    "print('Tuple before sorting: ',sort_tuple)\n",
    "temp_list=list(sort_tuple) #Convert into list\n",
    "print('List created from tuple: ',temp_list)\n",
    "temp_list.sort() #Sort the list\n",
    "\n",
    "sort_tuple=tuple(temp_list) #Convert list into tuple\n",
    "print('Sorted tuple is: ',sort_tuple) "
   ]
  },
  {
   "cell_type": "code",
   "execution_count": 8,
   "metadata": {},
   "outputs": [
    {
     "name": "stdout",
     "output_type": "stream",
     "text": [
      "Tuple before sorting:  ('java', 'python', 'C Language', 'C++', 'Swift', 'Kotlin')\n",
      "Sorted tuple is :  ('C Language', 'C++', 'Kotlin', 'Swift', 'java', 'python')\n"
     ]
    }
   ],
   "source": [
    "#sort using sorted()\n",
    "sorted_tuple=('java','python','C Language','C++','Swift','Kotlin')\n",
    "print('Tuple before sorting: ',sorted_tuple)\n",
    "\n",
    "sorted_list=sorted(sorted_tuple) #This will convert the tuple into list and also sort the list\n",
    "result_tuple=tuple(sorted_list) #Convert the above list to tuple\n",
    "print('Sorted tuple is : ',result_tuple)"
   ]
  },
  {
   "cell_type": "markdown",
   "metadata": {},
   "source": [
    "# Immutability in Tuple"
   ]
  },
  {
   "cell_type": "markdown",
   "metadata": {},
   "source": [
    "Tuple immutability applies only to the top level of the tuple itself, not to its contents.\n",
    "Suppose we have a list in tuple so we can always change the contents of list but we can't remove this list and say insert any string at its place..\n",
    "Let's do this with the help of an example:"
   ]
  },
  {
   "cell_type": "code",
   "execution_count": 9,
   "metadata": {},
   "outputs": [
    {
     "name": "stdout",
     "output_type": "stream",
     "text": [
      "Original tuple:  (1, [2, 'List', 100], 4, 5, 'Python')\n"
     ]
    },
    {
     "ename": "TypeError",
     "evalue": "'tuple' object does not support item assignment",
     "output_type": "error",
     "traceback": [
      "\u001b[1;31m---------------------------------------------------------------------------\u001b[0m",
      "\u001b[1;31mTypeError\u001b[0m                                 Traceback (most recent call last)",
      "\u001b[1;32m<ipython-input-9-800de30f75a7>\u001b[0m in \u001b[0;36m<module>\u001b[1;34m\u001b[0m\n\u001b[0;32m      3\u001b[0m \u001b[0mprint\u001b[0m\u001b[1;33m(\u001b[0m\u001b[1;34m'Original tuple: '\u001b[0m\u001b[1;33m,\u001b[0m\u001b[0mmutable_tuple\u001b[0m\u001b[1;33m)\u001b[0m\u001b[1;33m\u001b[0m\u001b[1;33m\u001b[0m\u001b[0m\n\u001b[0;32m      4\u001b[0m \u001b[1;31m#Lets try to change the list and replace it with some other object\u001b[0m\u001b[1;33m\u001b[0m\u001b[1;33m\u001b[0m\u001b[1;33m\u001b[0m\u001b[0m\n\u001b[1;32m----> 5\u001b[1;33m \u001b[0mmutable_tuple\u001b[0m\u001b[1;33m[\u001b[0m\u001b[1;36m1\u001b[0m\u001b[1;33m]\u001b[0m\u001b[1;33m=\u001b[0m\u001b[1;34m'Anything'\u001b[0m \u001b[1;31m# This fails: can't change tuple itself.\u001b[0m\u001b[1;33m\u001b[0m\u001b[1;33m\u001b[0m\u001b[0m\n\u001b[0m",
      "\u001b[1;31mTypeError\u001b[0m: 'tuple' object does not support item assignment"
     ]
    }
   ],
   "source": [
    "#Tuples are immutable.Lets try to change its element\n",
    "mutable_tuple=(1,[2,'List',100],4,5,'Python')\n",
    "print('Original tuple: ',mutable_tuple)\n",
    "#Lets try to change the list and replace it with some other object\n",
    "mutable_tuple[1]='Anything' # This fails: can't change tuple itself."
   ]
  },
  {
   "cell_type": "code",
   "execution_count": null,
   "metadata": {},
   "outputs": [],
   "source": [
    "#We cant change the tuple itself bt we can change the mutable object inside the tuple\n",
    "mutable_tuple[1][0]='Anything' \n",
    "print('New tuple is : ',mutable_tuple)"
   ]
  },
  {
   "cell_type": "markdown",
   "metadata": {},
   "source": [
    "# Named Tuples"
   ]
  },
  {
   "cell_type": "markdown",
   "metadata": {},
   "source": [
    "We use index/positional based accessing of elements in case of list and tuples.For dictionary we generally use named access to record fields.<br><br>\n",
    "But with a bit of extra work, we can implement objects that offer both positional and named access to record fields.<br>\n",
    "\n",
    "The namedtuple utility, available in the standard library’s collections module implements an extension type that adds logic to tuples that allows components to be accessed by both position and attribute name, and can be converted to dictionary-like form for access by key if desired.\n",
    "Attribute names come from classes and are not exactly dictionary keys, but they are similarly mnemonic<br>\n",
    "\n",
    "Named tuples are available in Python 3.X, 2.7, 2.6.They are also extensions, not core types—they live in the standard library\n",
    "\n",
    "Let's work with an example to understand this."
   ]
  },
  {
   "cell_type": "code",
   "execution_count": null,
   "metadata": {},
   "outputs": [],
   "source": [
    "from collections import namedtuple\n",
    "Emp=namedtuple('Employee',['id','name','jobs'])\n",
    "\n",
    "first_employee=Emp('101','ABC',['dev','mgr'])\n",
    "print('Type of first employee: ',type(first_employee))\n",
    "print('First Employee details: ',first_employee)\n",
    "\n",
    "print('Access Name by position ',first_employee[1])\n",
    "print('Access Name by attribute ',first_employee.name)\n",
    "\n",
    "first_employee_dict=first_employee._asdict()\n",
    "print('Type of first employee: ',type(first_employee_dict))\n",
    "print('Access jobs using dict like notation ',first_employee_dict['jobs'])"
   ]
  },
  {
   "cell_type": "markdown",
   "metadata": {},
   "source": [
    "<b>What's going on in above example ?</b>"
   ]
  },
  {
   "cell_type": "markdown",
   "metadata": {},
   "source": [
    "Named tuple are a mix of tuple/class/dictonary.Named tuples build new classes that extend the tuple type, inserting a property accessor method for each named field that maps the name to its position.Example: <br>\n",
    "\n",
    "In the above demo a new class is built called 'Employee' that extend the tuple type.In this new class we have property access method for all our 3 fields(id,name and job).These fields are mapped to the positions so that we can also access them using their position.<br>\n",
    "\n",
    "They require extra little bit of code to work but they are a good example of the kind of custom data types that we can build on top of built-in types like tuples when extra utility is desired."
   ]
  },
  {
   "cell_type": "code",
   "execution_count": null,
   "metadata": {},
   "outputs": [],
   "source": []
  }
 ],
 "metadata": {
  "kernelspec": {
   "display_name": "Python 3",
   "language": "python",
   "name": "python3"
  },
  "language_info": {
   "codemirror_mode": {
    "name": "ipython",
    "version": 3
   },
   "file_extension": ".py",
   "mimetype": "text/x-python",
   "name": "python",
   "nbconvert_exporter": "python",
   "pygments_lexer": "ipython3",
   "version": "3.7.3"
  }
 },
 "nbformat": 4,
 "nbformat_minor": 2
}
