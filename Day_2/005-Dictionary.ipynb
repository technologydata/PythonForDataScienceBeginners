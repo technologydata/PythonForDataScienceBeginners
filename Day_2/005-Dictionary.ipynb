{
 "cells": [
  {
   "cell_type": "markdown",
   "metadata": {},
   "source": [
    "# Dictionary"
   ]
  },
  {
   "cell_type": "markdown",
   "metadata": {},
   "source": [
    "In dictionaries,items are <b><u>stored and fetched by key</u></b> ,instead of by positional offset.<br>\n",
    "\n",
    "Dictionaries take the place of records, search tables, and any other sort of aggregation \n",
    "where item names are more meaningful than item positions.<br>\n",
    "\n",
    "Dictionaries are sometimes called associative arrays or hashes.<br>\n",
    "\n",
    "Internally,dictionaries are implemented as hash tables (data structures that support very fast\n",
    "retrieval), which start small and grow on demand.<br>\n",
    "\n",
    "<u>Note</U>: - for Python  versions < 3.7, dictionary key ordering is not guaranteed.\n",
    "However, as of Python 3.7, dictionary items maintain the order at which they are inserted into the dictionary."
   ]
  },
  {
   "cell_type": "markdown",
   "metadata": {},
   "source": [
    "<b>Properties of a Dictionary</b><br>\n",
    "<u>Accessed by key, not offset position</u>: They associate a set of values with keys, so you can\n",
    "fetch an item out of a dictionary using the key under which you originally stored\n",
    "it.You use the same indexing operation to get components in a dictionary as you\n",
    "do in a list, but the index takes the form of a key, not a relative offset.<br>\n",
    "\n",
    "<u>Note:</u>- Keys for dictionaries have to be immutable types. \n",
    "This is to ensure that the key can be converted to a constant hash value for quick look-ups.\n",
    "Immutable types include ints, floats, strings, tuples.\n",
    "\n",
    "<br>\n",
    "\n",
    "<u>Variable-length, heterogeneous, and arbitrarily nestable</u>: Like lists, dictionaries can grow and shrink in place (without new copies being made), they can contain objects of any type, and they support nesting to any depth\n",
    "(they can contain lists, other dictionaries, and so on).<br>\n",
    "\n",
    "<u>Mutable Mapping</u>: You can change dictionaries in place by assigning to indexes (they are mutable),\n",
    "but they don’t support the sequence operations that work on strings and lists.\n",
    "Because dictionaries are unordered collections, operations that depend on a fixed\n",
    "positional order (e.g., concatenation, slicing) don’t make sense.\n"
   ]
  },
  {
   "cell_type": "markdown",
   "metadata": {},
   "source": [
    "# Creating a Dictonary"
   ]
  },
  {
   "cell_type": "code",
   "execution_count": 1,
   "metadata": {},
   "outputs": [
    {
     "name": "stdout",
     "output_type": "stream",
     "text": [
      "{}\n",
      "{'id': 1231, 'salary': 10000, 'userdetail': {'username': 'hacker', 'role': 'admin', 'password': 'adminadmin'}}\n"
     ]
    }
   ],
   "source": [
    "#Empty Dictionary\n",
    "empty_dict={}\n",
    "print(empty_dict)\n",
    "\n",
    "#Two item dictionary with nesting\n",
    "two_dict={ 'id':1231,'salary':10000,'userdetail':{'username':'hacker','role':'admin','password':'adminadmin'}}\n",
    "print(two_dict)\n",
    "\n"
   ]
  },
  {
   "cell_type": "markdown",
   "metadata": {},
   "source": [
    "<b>dict method in python to create dictionaries</b><br>\n",
    "\n",
    "Here are the different forms of dict() constructors.<br>\n",
    "\n",
    "dict(**kwarg) <br>\n",
    "dict([mapping, **kwarg])<br>\n",
    "dict([iterable, **kwarg])<br>"
   ]
  },
  {
   "cell_type": "code",
   "execution_count": 2,
   "metadata": {},
   "outputs": [
    {
     "name": "stdout",
     "output_type": "stream",
     "text": [
      "Empty dict:-  {}\n",
      "Dict with only keyword argument {'id': 3443, 'role': 'admin', 'salary': 50000}\n",
      "Dict with Iterable(no keyword argument) = {'x': 5, 'y': -5}\n",
      "Dict with Iterable(keyword argument) = {'x': 5, 'y': -5, 'z': 8}\n",
      "Dict with Mapping(no keyword argument) = {'x': 40, 'y': 50}\n",
      "Dict with Mapping(keyword argument) = {'x': 40, 'y': 50, 'z': 80}\n"
     ]
    }
   ],
   "source": [
    "#creating empty dictionary\n",
    "print('Empty dict:- ',dict())\n",
    "\n",
    "#Create dictionary using keyword arguments\n",
    "print('Dict with only keyword argument',dict(id=3443,role='admin',salary=50000))\n",
    "\n",
    "\n",
    "# Creating dictionary using Iterable with no keyword argument\n",
    "numbers1 = dict([('x', 5), ('y', -5)])\n",
    "print('Dict with Iterable(no keyword argument) =',numbers1)\n",
    "\n",
    "# Creating dictionary using Iterable with keyword argument\n",
    "numbers2 = dict([('x', 5), ('y', -5)], z=8)\n",
    "print('Dict with Iterable(keyword argument) =',numbers2)\n",
    "\n",
    "\n",
    "\n",
    "# Creating dictionary using Mapping with no keyword argument\n",
    "numbers3 = dict({'x': 40, 'y': 50})\n",
    "print('Dict with Mapping(no keyword argument) =',numbers3)\n",
    "\n",
    "# Creating dictionary using Mapping with keyword argument\n",
    "numbers4 = dict({'x': 40, 'y': 50}, z=80)\n",
    "print('Dict with Mapping(keyword argument) =',numbers4)\n",
    "\n"
   ]
  },
  {
   "cell_type": "markdown",
   "metadata": {},
   "source": [
    "# Basic Dictionary Operations\n",
    "\n",
    "Dictionaries are indexed by key, and nested dictionary entries are referenced by a series of indexes (keys in square brackets). When Python creates a dictionary, it stores its items in any left-to-right order it chooses; to fetch a value back,you supply the key with which it is associated, not its relative position."
   ]
  },
  {
   "cell_type": "code",
   "execution_count": 3,
   "metadata": {},
   "outputs": [
    {
     "name": "stdout",
     "output_type": "stream",
     "text": [
      "Original dictionary:-  {'id': 1231, 'salary': 10000, 'userdetail': {'username': 'hacker', 'role': 'admin'}}\n",
      "Id is:  1231\n",
      "username is: hacker\n",
      "Dictionary after adding address key:-  {'id': 1231, 'salary': 10000, 'userdetail': {'username': 'hacker', 'role': 'admin'}, 'address': 'Delhi'}\n"
     ]
    }
   ],
   "source": [
    "#Access element in dictionary\n",
    "access_dict={ 'id':1231,'salary':10000,'userdetail':{'username':'hacker','role':'admin'}}\n",
    "print('Original dictionary:- ',access_dict)\n",
    "\n",
    "#Access non nested element\n",
    "print('Id is: ',access_dict['id'])\n",
    "\n",
    "#Access nested element\n",
    "print('username is:',access_dict['userdetail']['username'])\n",
    "\n",
    "#Add address in the above dictionary\n",
    "access_dict['address']='Delhi'\n",
    "print('Dictionary after adding address key:- ',access_dict)\n"
   ]
  },
  {
   "cell_type": "code",
   "execution_count": 4,
   "metadata": {},
   "outputs": [
    {
     "name": "stdout",
     "output_type": "stream",
     "text": [
      "Number of keys:  3\n",
      "Whether id key exists or not?  True\n",
      "Whether address key exists or not?  False\n"
     ]
    }
   ],
   "source": [
    "#Length of Dictionary(Return the length/number of keys)\n",
    "length_dict={ 'id':1231,'salary':10000,'userdetail':{'username':'hacker','role':'admin'}}\n",
    "print('Number of keys: ',len(length_dict))\n",
    "\n",
    "#Key membership test(Check whether a particular key exists or not)\n",
    "print('Whether id key exists or not? ','id' in length_dict)\n",
    "print('Whether address key exists or not? ','address' in length_dict)"
   ]
  },
  {
   "cell_type": "code",
   "execution_count": null,
   "metadata": {},
   "outputs": [],
   "source": []
  },
  {
   "cell_type": "code",
   "execution_count": null,
   "metadata": {},
   "outputs": [],
   "source": []
  },
  {
   "cell_type": "markdown",
   "metadata": {},
   "source": [
    "# Mutable Operations on Dictionary\n",
    "Dictionaries, like lists, are mutable, so you can change, expand, and shrink them in place \n",
    "without making new dictionaries: simply assign a value to a key to change or create an entry."
   ]
  },
  {
   "cell_type": "code",
   "execution_count": 5,
   "metadata": {},
   "outputs": [
    {
     "name": "stdout",
     "output_type": "stream",
     "text": [
      "Original Dictionary:-  {'id': 1231, 'salary': 10000, 'userdetail': {'username': 'hacker', 'role': 'admin'}}\n",
      "Dictionary after changing salary:-  {'id': 1231, 'salary': 50000, 'userdetail': {'username': 'hacker', 'role': 'admin'}}\n"
     ]
    }
   ],
   "source": [
    "#Create a dictionary to store an employee details\n",
    "mutable_dict={ 'id':1231,'salary':10000,'userdetail':{'username':'hacker','role':'admin'}}\n",
    "print('Original Dictionary:- ',mutable_dict)\n",
    "\n",
    "#Change the salary of above employee\n",
    "mutable_dict['salary']=50000\n",
    "print('Dictionary after changing salary:- ',mutable_dict)"
   ]
  },
  {
   "cell_type": "code",
   "execution_count": null,
   "metadata": {},
   "outputs": [],
   "source": []
  },
  {
   "cell_type": "code",
   "execution_count": null,
   "metadata": {},
   "outputs": [],
   "source": []
  },
  {
   "cell_type": "markdown",
   "metadata": {},
   "source": [
    "<u><b>Deleting elements from the dictionaries</b></u>"
   ]
  },
  {
   "cell_type": "code",
   "execution_count": 6,
   "metadata": {},
   "outputs": [
    {
     "name": "stdout",
     "output_type": "stream",
     "text": [
      "Original Dictionary is :-  {'id': 1231, 'salary': 10000, 'userdetail': {'username': 'hacker', 'role': 'admin'}}\n",
      "Dictionary after deleting salary:-  {'id': 1231, 'userdetail': {'username': 'hacker', 'role': 'admin'}}\n"
     ]
    }
   ],
   "source": [
    "#Use of del\n",
    "\n",
    "delete_dict={ 'id':1231,'salary':10000,'userdetail':{'username':'hacker','role':'admin'}}\n",
    "print('Original Dictionary is :- ',delete_dict)\n",
    "\n",
    "#Delete the salary of employee\n",
    "del delete_dict['salary']\n",
    "print('Dictionary after deleting salary:- ',delete_dict)\n",
    "\n"
   ]
  },
  {
   "cell_type": "code",
   "execution_count": 7,
   "metadata": {},
   "outputs": [
    {
     "name": "stdout",
     "output_type": "stream",
     "text": [
      "Original Dictionary is :-  {'id': 1231, 'salary': 10000, 'userdetail': {'username': 'hacker', 'role': 'admin'}, 'address': 'Delhi'}\n",
      "Dictionary after pop()  {'id': 1231, 'salary': 10000, 'userdetail': {'username': 'hacker', 'role': 'admin'}}\n",
      "Item removed is :-  Delhi\n"
     ]
    }
   ],
   "source": [
    "#pop method:-\n",
    "#The dictionary pop method deletes a key from a dictionary and returns the value it had.\n",
    "#It’s similar to the list pop method, but it takes a key instead of an optional position\n",
    "\n",
    "pop_dict={ 'id':1231,'salary':10000,'userdetail':{'username':'hacker','role':'admin'},'address':'Delhi'}\n",
    "print('Original Dictionary is :- ',pop_dict)\n",
    "\n",
    "#Delete address key-value pair using pop\n",
    "item_deleted=pop_dict.pop('address')\n",
    "print('Dictionary after pop() ',pop_dict)\n",
    "print('Item removed is :- ',item_deleted)\n",
    "\n",
    "\n",
    "#If a key is not present,Keyerror will be raised\n",
    "#pop_dict.pop('education')\n"
   ]
  },
  {
   "cell_type": "code",
   "execution_count": null,
   "metadata": {},
   "outputs": [],
   "source": []
  },
  {
   "cell_type": "markdown",
   "metadata": {},
   "source": [
    "# Dictionary Method Calls"
   ]
  },
  {
   "cell_type": "markdown",
   "metadata": {},
   "source": [
    "<b><u>Retreive all keys and all values from the dictionary</u></b>"
   ]
  },
  {
   "cell_type": "code",
   "execution_count": 8,
   "metadata": {},
   "outputs": [
    {
     "name": "stdout",
     "output_type": "stream",
     "text": [
      "Original Dictionary is :-  {'id': 1231, 'salary': 10000, 'userdetail': {'username': 'hacker', 'role': 'admin'}}\n",
      "List of all values:-  [1231, 10000, {'username': 'hacker', 'role': 'admin'}]\n",
      "List of all keys:-  ['id', 'salary', 'userdetail']\n",
      "Key-value pairs:-  [('id', 1231), ('salary', 10000), ('userdetail', {'username': 'hacker', 'role': 'admin'})]\n",
      "Printing values using for loop\n",
      "Key:  id , Value:  1231\n",
      "Key:  salary , Value:  10000\n",
      "Key:  userdetail , Value:  {'username': 'hacker', 'role': 'admin'}\n"
     ]
    }
   ],
   "source": [
    "#Retreiving elements of dictionary\n",
    "\n",
    "access_dict={'id': 1231, 'salary': 10000, 'userdetail': {'username': 'hacker', 'role': 'admin'}}\n",
    "print('Original Dictionary is :- ',access_dict)\n",
    "\n",
    "#Access all values of a dictionary\n",
    "values_list=list(access_dict.values()) #values() return iterable so need to wrap in list call\n",
    "print('List of all values:- ',values_list)\n",
    "\n",
    "#Access all keys of dictionary\n",
    "key_list=list(access_dict.keys()) #keys() return iterable so need to wrap in list call\n",
    "print('List of all keys:- ',key_list)\n",
    "\n",
    "#Get (key,value) pair\n",
    "key_value_list=list(access_dict.items()) #items() return each key-value pair in dictionary\n",
    "print(\"Key-value pairs:- \",key_value_list)\n",
    "\n",
    "#use of for loop to get value corresponding to a key\n",
    "print('Printing values using for loop')\n",
    "for key in access_dict.keys():\n",
    "    print(\"Key: \", key , ', Value: ',access_dict.get(key))\n",
    "\n",
    "\n",
    "\n"
   ]
  },
  {
   "cell_type": "markdown",
   "metadata": {},
   "source": [
    "<b><u>Search a value in a dictionary using key</u></b>"
   ]
  },
  {
   "cell_type": "code",
   "execution_count": 9,
   "metadata": {},
   "outputs": [
    {
     "name": "stdout",
     "output_type": "stream",
     "text": [
      "Original Dictionary:-  {'id': 1231, 'salary': 10000, 'userdetail': {'username': 'hacker', 'role': 'admin'}}\n",
      "Salary is :-  10000\n",
      "id is :-  1231\n"
     ]
    },
    {
     "ename": "KeyError",
     "evalue": "'address'",
     "output_type": "error",
     "traceback": [
      "\u001b[1;31m---------------------------------------------------------------------------\u001b[0m",
      "\u001b[1;31mKeyError\u001b[0m                                  Traceback (most recent call last)",
      "\u001b[1;32m<ipython-input-9-52a94eb5c70a>\u001b[0m in \u001b[0;36m<module>\u001b[1;34m\u001b[0m\n\u001b[0;32m     10\u001b[0m \u001b[1;31m#Problem with [ ] notation\u001b[0m\u001b[1;33m\u001b[0m\u001b[1;33m\u001b[0m\u001b[1;33m\u001b[0m\u001b[0m\n\u001b[0;32m     11\u001b[0m \u001b[1;31m# Looking up a non-existing key is a KeyError\u001b[0m\u001b[1;33m\u001b[0m\u001b[1;33m\u001b[0m\u001b[1;33m\u001b[0m\u001b[0m\n\u001b[1;32m---> 12\u001b[1;33m \u001b[0mprint\u001b[0m\u001b[1;33m(\u001b[0m\u001b[1;34m'Fetch address using [] notation :- '\u001b[0m\u001b[1;33m,\u001b[0m\u001b[0msearch_element_dict\u001b[0m\u001b[1;33m[\u001b[0m\u001b[1;34m\"address\"\u001b[0m\u001b[1;33m]\u001b[0m\u001b[1;33m)\u001b[0m  \u001b[1;31m# KeyError\u001b[0m\u001b[1;33m\u001b[0m\u001b[1;33m\u001b[0m\u001b[0m\n\u001b[0m",
      "\u001b[1;31mKeyError\u001b[0m: 'address'"
     ]
    }
   ],
   "source": [
    "search_element_dict={'id': 1231, 'salary': 10000, 'userdetail': {'username': 'hacker', 'role': 'admin'}}\n",
    "print('Original Dictionary:- ',search_element_dict)\n",
    "\n",
    "# Find value for salary key\n",
    "print('Salary is :- ',search_element_dict['salary'])\n",
    "\n",
    "#Find value using get()\n",
    "print('id is :- ',search_element_dict.get('id'))\n",
    "\n",
    "#Problem with [ ] notation\n",
    "# Looking up a non-existing key is a KeyError\n",
    "print('Fetch address using [] notation :- ',search_element_dict[\"address\"])  # KeyError"
   ]
  },
  {
   "cell_type": "code",
   "execution_count": null,
   "metadata": {},
   "outputs": [],
   "source": [
    "# Use \"get()\" method to avoid the KeyError\n",
    "print('Fetch address using get method :- ', search_element_dict.get(\"address\"))    # => None\n",
    "\n",
    "# The get method supports a default argument when the value is missing\n",
    "print(\"Salary = \" , search_element_dict.get(\"salary\", 40000)) #Give salary = 10000 bcoz salary value is already present\n",
    "print(\"Address = \", search_element_dict.get(\"address\", 'Delhi')) #Give address= 'Delhi' bcoz we have no address in dictionary"
   ]
  },
  {
   "cell_type": "code",
   "execution_count": 10,
   "metadata": {},
   "outputs": [
    {
     "name": "stdout",
     "output_type": "stream",
     "text": [
      "First dict:-  {'eggs': 3, 'spam': 2, 'ham': 1}\n",
      "Second dict:-  {'toast': 4, 'muffin': 5, 'spam': 4}\n",
      "Merged first dict is:-  {'eggs': 3, 'spam': 4, 'ham': 1, 'toast': 4, 'muffin': 5}\n"
     ]
    }
   ],
   "source": [
    "#update method : It merge the keys and values of one dictionary into another,\n",
    "#overwriting the value s of same key,if there is a clash\n",
    "\n",
    "first_dict= {'eggs': 3, 'spam': 2, 'ham': 1}\n",
    "second_dict={'toast':4, 'muffin':5,'spam':4}\n",
    "\n",
    "print('First dict:- ',first_dict)\n",
    "print('Second dict:- ',second_dict)\n",
    "\n",
    "#Merged the seond with the first one.Also it overwrites the value of spam in first dict\n",
    "first_dict.update(second_dict)\n",
    "\n",
    "print('Merged first dict is:- ',first_dict)"
   ]
  },
  {
   "cell_type": "code",
   "execution_count": 11,
   "metadata": {},
   "outputs": [
    {
     "name": "stdout",
     "output_type": "stream",
     "text": [
      "Original dict:-  {'id': 1231, 'salary': 10000, 'userdetail': {'username': 'hacker', 'role': 'admin'}}\n",
      "After adding Address:-  {'id': 1231, 'salary': 10000, 'userdetail': {'username': 'hacker', 'role': 'admin'}, 'address': 'Delhi'}\n",
      "trying to add address again\n",
      "After adding Address:-  {'id': 1231, 'salary': 10000, 'userdetail': {'username': 'hacker', 'role': 'admin'}, 'address': 'Delhi'}\n"
     ]
    }
   ],
   "source": [
    "# \"setdefault()\" inserts into a dictionary only if the given key isn't present\n",
    "default_dict={'id': 1231, 'salary': 10000, 'userdetail': {'username': 'hacker', 'role': 'admin'}}\n",
    "print('Original dict:- ', default_dict)\n",
    "default_dict.setdefault(\"address\", 'Delhi') #It will insert the address key-value bcoz it is not present currently  \n",
    "print('After adding Address:- ', default_dict)\n",
    "\n",
    "print('trying to add address again')\n",
    "default_dict.setdefault(\"address\", 'Mumbai') #it will not update address \n",
    "print('After adding Address:- ', default_dict)\n"
   ]
  },
  {
   "cell_type": "code",
   "execution_count": 13,
   "metadata": {},
   "outputs": [
    {
     "name": "stdout",
     "output_type": "stream",
     "text": [
      "Dictionary is:-  {'id': 1231, 'salary': 10000, 'userdetail': {'username': 'hacker', 'role': 'admin'}}\n",
      "is address key present ?  False\n",
      "is address key present ?  True\n"
     ]
    }
   ],
   "source": [
    "#\"in\" :- Check for existence of keys in a dictionary with \"in\"\n",
    "in_dict={'id': 1231, 'salary': 10000, 'userdetail': {'username': 'hacker', 'role': 'admin'}}\n",
    "print('Dictionary is:- ',in_dict)\n",
    "\n",
    "print('is address key present ? ','address' in in_dict)\n",
    "print('is address key present ? ','userdetail' in in_dict)\n"
   ]
  },
  {
   "cell_type": "markdown",
   "metadata": {},
   "source": [
    "<b><u>copy() method:- It returns a copy of the existing dictionary </u></b>"
   ]
  },
  {
   "cell_type": "code",
   "execution_count": 12,
   "metadata": {},
   "outputs": [
    {
     "name": "stdout",
     "output_type": "stream",
     "text": [
      "Original Dict is:-  {'Hello': 56, 'at': 23, 'test': 43, 'this': 43, 'who': [56, 34, 44]}\n",
      "Duplicated Dict is:-  {'Hello': 56, 'at': 23, 'test': 43, 'this': 43, 'who': [56, 34, 44]}\n",
      "Duplicated Dict after modification:-  {'Hello': 45, 'at': 23, 'test': 43, 'this': 43, 'who': [56, 34, 44]}\n",
      "Original Dict after modification:-  {'Hello': 56, 'at': 23, 'test': 43, 'this': 43, 'who': [56, 34, 44]}\n",
      "Are they pointing to same memory location ?  False\n"
     ]
    }
   ],
   "source": [
    "words_dict = { \"Hello\": 56,\"at\" : 23 ,\"test\" : 43,\"this\" : 43,\"who\" : [56, 34, 44] }\n",
    "new_dict=words_dict.copy()\n",
    "print('Original Dict is:- ',words_dict)\n",
    "print('Duplicated Dict is:- ',new_dict)\n",
    "\n",
    "#Now change some element in duplicated dictionary\n",
    "new_dict['Hello']=45\n",
    "print('Duplicated Dict after modification:- ',new_dict)\n",
    "print('Original Dict after modification:- ',words_dict) #No change in original list\n",
    "\n",
    "#Use is to check is they both pointing to same memory location or not\n",
    "print('Are they pointing to same memory location ? ',new_dict is words_dict)\n"
   ]
  },
  {
   "cell_type": "code",
   "execution_count": null,
   "metadata": {},
   "outputs": [],
   "source": []
  }
 ],
 "metadata": {
  "kernelspec": {
   "display_name": "Python 3",
   "language": "python",
   "name": "python3"
  },
  "language_info": {
   "codemirror_mode": {
    "name": "ipython",
    "version": 3
   },
   "file_extension": ".py",
   "mimetype": "text/x-python",
   "name": "python",
   "nbconvert_exporter": "python",
   "pygments_lexer": "ipython3",
   "version": "3.7.3"
  }
 },
 "nbformat": 4,
 "nbformat_minor": 2
}
